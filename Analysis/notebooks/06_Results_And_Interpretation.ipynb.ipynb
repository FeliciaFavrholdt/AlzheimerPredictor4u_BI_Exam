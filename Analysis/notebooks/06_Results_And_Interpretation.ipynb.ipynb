{
 "cells": [
  {
   "cell_type": "markdown",
   "id": "acf8e365-efec-4e83-b80d-742ddbaa7528",
   "metadata": {},
   "source": [
    "# Notebook 06 - Results And Interpretation"
   ]
  },
  {
   "cell_type": "markdown",
   "id": "01397605-d985-47ca-9fda-68a32b2a3166",
   "metadata": {},
   "source": [
    "In this notebook, we summarize and interpret the results from the previous model training and evaluation. We answer our research questions and discuss which machine learning model performs best for predicting Alzheimer's diagnosis."
   ]
  },
  {
   "cell_type": "markdown",
   "id": "299c727d-2774-4084-8694-7a6629720e68",
   "metadata": {},
   "source": [
    "## Research Goal"
   ]
  },
  {
   "cell_type": "markdown",
   "id": "279201a6-bf4d-4185-893e-45c6e6092874",
   "metadata": {},
   "source": [
    "Our goal is to use patient data, including clinical, cognitive, lifestyle, and demographic features, to predict Alzheimer's diagnosis with supervised machine learning models.\n",
    "\n",
    "We focus on answering these research questions:\n",
    "- Can we use patient data to build accurate machine learning models for Alzheimer’s prediction?\n",
    "- Which features are most helpful in predicting Alzheimer’s?\n",
    "- Which machine learning model performs best?"
   ]
  },
  {
   "cell_type": "markdown",
   "id": "1909db62-eab5-4a3a-b4c8-f3d60218d8a6",
   "metadata": {},
   "source": [
    "---"
   ]
  },
  {
   "cell_type": "markdown",
   "id": "d37358f2-4ef3-4fd0-8c67-3d15f87c2a46",
   "metadata": {},
   "source": [
    "## Models Trained"
   ]
  },
  {
   "cell_type": "markdown",
   "id": "8b4bdf3e-10f3-4a51-8ec2-472433403160",
   "metadata": {},
   "source": [
    "We trained and evaluated the following models:\n",
    "- Decision Tree\n",
    "- Random Forest\n",
    "- Logistic Regression\n",
    "- Naive Bayes\n",
    "- Linear Regression (used for illustration)"
   ]
  },
  {
   "cell_type": "markdown",
   "id": "2abb7239-1b5d-41c1-ad72-4c9a96387f1c",
   "metadata": {},
   "source": [
    "---"
   ]
  },
  {
   "cell_type": "markdown",
   "id": "2a3515a1-f255-4a76-8698-4fc987573959",
   "metadata": {},
   "source": [
    "## Load Our Environment"
   ]
  },
  {
   "cell_type": "markdown",
   "id": "e93c41a5-58f7-432f-a85d-e8f99781bf0a",
   "metadata": {},
   "source": [
    "We reuse the same setup from notebook 02. To keep things consistent and avoid repeating code, we import our helper functions from the utils folder and initialize the environment."
   ]
  },
  {
   "cell_type": "code",
   "execution_count": 19,
   "id": "bbadb04b-baa6-435d-9592-f40b4bdb68f3",
   "metadata": {},
   "outputs": [
    {
     "name": "stdout",
     "output_type": "stream",
     "text": [
      "Environment setup complete.\n",
      "All libraries imported and environment initialized.\n"
     ]
    }
   ],
   "source": [
    "# We are adding the parent folder to the Python path so we can import files from the \"utils\" folder\n",
    "import sys\n",
    "sys.path.append(\"..\")\n",
    "\n",
    "# Importing the custom helper functions from our project\n",
    "from utils.setup_notebook import (\n",
    "    init_environment,\n",
    "    load_csv,\n",
    "    print_shape,\n",
    "    print_info,\n",
    "    print_full_info,\n",
    "    print_description,\n",
    "    print_categorical_description,\n",
    "    show_head\n",
    ")\n",
    "\n",
    "from utils.save_tools import save_plot, save_notebook_and_summary\n",
    "\n",
    "# Import used libraries \n",
    "import pandas as pd\n",
    "from IPython.display import display\n",
    "from sklearn.preprocessing import StandardScaler\n",
    "from sklearn.preprocessing import LabelEncoder\n",
    "\n",
    "# Running environment setup\n",
    "init_environment()\n",
    "print(\"All libraries imported and environment initialized.\")"
   ]
  },
  {
   "cell_type": "markdown",
   "id": "662d7c3f-db2d-41bf-9d90-d81344462f62",
   "metadata": {},
   "source": [
    "----"
   ]
  },
  {
   "cell_type": "markdown",
   "id": "595e8ea2-aa56-404c-99fa-570b4b80434b",
   "metadata": {},
   "source": [
    "## Load Model Results "
   ]
  },
  {
   "cell_type": "code",
   "execution_count": 46,
   "id": "5eb68157-fcf8-4dcd-a139-6bc5ef2fb731",
   "metadata": {},
   "outputs": [
    {
     "data": {
      "text/html": [
       "<div>\n",
       "<style scoped>\n",
       "    .dataframe tbody tr th:only-of-type {\n",
       "        vertical-align: middle;\n",
       "    }\n",
       "\n",
       "    .dataframe tbody tr th {\n",
       "        vertical-align: top;\n",
       "    }\n",
       "\n",
       "    .dataframe thead th {\n",
       "        text-align: right;\n",
       "    }\n",
       "</style>\n",
       "<table border=\"1\" class=\"dataframe\">\n",
       "  <thead>\n",
       "    <tr style=\"text-align: right;\">\n",
       "      <th></th>\n",
       "      <th>model</th>\n",
       "      <th>accuracy</th>\n",
       "      <th>auc</th>\n",
       "      <th>clusters_found</th>\n",
       "    </tr>\n",
       "  </thead>\n",
       "  <tbody>\n",
       "    <tr>\n",
       "      <th>0</th>\n",
       "      <td>Decision Tree</td>\n",
       "      <td>0.77</td>\n",
       "      <td>0.74</td>\n",
       "      <td>NaN</td>\n",
       "    </tr>\n",
       "    <tr>\n",
       "      <th>1</th>\n",
       "      <td>Random Forest</td>\n",
       "      <td>0.85</td>\n",
       "      <td>0.87</td>\n",
       "      <td>NaN</td>\n",
       "    </tr>\n",
       "    <tr>\n",
       "      <th>2</th>\n",
       "      <td>Logistic Regression</td>\n",
       "      <td>0.81</td>\n",
       "      <td>0.83</td>\n",
       "      <td>NaN</td>\n",
       "    </tr>\n",
       "    <tr>\n",
       "      <th>3</th>\n",
       "      <td>Naive Bayes</td>\n",
       "      <td>0.79</td>\n",
       "      <td>0.85</td>\n",
       "      <td>NaN</td>\n",
       "    </tr>\n",
       "    <tr>\n",
       "      <th>4</th>\n",
       "      <td>Linear Regression</td>\n",
       "      <td>0.82</td>\n",
       "      <td>0.86</td>\n",
       "      <td>NaN</td>\n",
       "    </tr>\n",
       "    <tr>\n",
       "      <th>5</th>\n",
       "      <td>Mean-Shift Clustering</td>\n",
       "      <td>NaN</td>\n",
       "      <td>NaN</td>\n",
       "      <td>6.0</td>\n",
       "    </tr>\n",
       "  </tbody>\n",
       "</table>\n",
       "</div>"
      ],
      "text/plain": [
       "                   model  accuracy   auc  clusters_found\n",
       "0          Decision Tree      0.77  0.74             NaN\n",
       "1          Random Forest      0.85  0.87             NaN\n",
       "2    Logistic Regression      0.81  0.83             NaN\n",
       "3            Naive Bayes      0.79  0.85             NaN\n",
       "4      Linear Regression      0.82  0.86             NaN\n",
       "5  Mean-Shift Clustering       NaN   NaN             6.0"
      ]
     },
     "metadata": {},
     "output_type": "display_data"
    }
   ],
   "source": [
    "import json\n",
    "import pandas as pd\n",
    "\n",
    "# Load saved model results\n",
    "with open('../data/model_results.json') as f:\n",
    "    model_results = json.load(f)\n",
    "\n",
    "# Create dataframe\n",
    "results_df = pd.DataFrame(model_results)\n",
    "display(results_df)"
   ]
  },
  {
   "cell_type": "markdown",
   "id": "21180df3-4de1-4ce8-84d0-b3df6a94f041",
   "metadata": {},
   "source": [
    "------"
   ]
  },
  {
   "cell_type": "markdown",
   "id": "361d6bdf-18c8-4526-a07b-6cea77e82a0b",
   "metadata": {},
   "source": [
    "## Model AUC Comparison"
   ]
  },
  {
   "cell_type": "code",
   "execution_count": 53,
   "id": "5eafa5c7-6e3c-4b72-8be3-db2e859ad7f6",
   "metadata": {},
   "outputs": [
    {
     "name": "stderr",
     "output_type": "stream",
     "text": [
      "/var/folders/ct/0p5jxxp54xlcjs_q4dwkbdd80000gn/T/ipykernel_53142/796019515.py:5: FutureWarning: \n",
      "\n",
      "Passing `palette` without assigning `hue` is deprecated and will be removed in v0.14.0. Assign the `x` variable to `hue` and set `legend=False` for the same effect.\n",
      "\n",
      "  sns.barplot(x='model', y='auc', data=results_df, palette=\"viridis\")\n"
     ]
    },
    {
     "data": {
      "image/png": "[encoded data removed]",
      "text/plain": [
       "<Figure size 800x500 with 1 Axes>"
      ]
     },
     "metadata": {},
     "output_type": "display_data"
    }
   ],
   "source": [
    "import matplotlib.pyplot as plt\n",
    "import seaborn as sns\n",
    "\n",
    "plt.figure(figsize=(8, 5))\n",
    "sns.barplot(x='model', y='auc', data=results_df, palette=\"viridis\")\n",
    "plt.title(\"Model AUC Comparison\")\n",
    "plt.ylabel(\"AUC Score\")\n",
    "plt.xlabel(\"Model\")\n",
    "plt.ylim(0.7, 1.0)\n",
    "plt.show()"
   ]
  },
  {
   "cell_type": "markdown",
   "id": "30a35e9c-c7ad-44e5-b6bd-d652da0c5251",
   "metadata": {},
   "source": [
    "## Model Performance"
   ]
  },
  {
   "cell_type": "code",
   "execution_count": 55,
   "id": "e514f924-760c-4b4c-9ba0-f19c63595bcf",
   "metadata": {},
   "outputs": [
    {
     "data": {
      "image/png": "[encoded data removed]",
      "text/plain": [
       "<Figure size 1000x600 with 1 Axes>"
      ]
     },
     "metadata": {},
     "output_type": "display_data"
    }
   ],
   "source": [
    "# Function to plot model performance\n",
    "def plot_model_performance(df):\n",
    "    models = df['model']\n",
    "    metrics = ['accuracy', 'auc']\n",
    "    bar_width = 0.35\n",
    "    index = np.arange(len(models))\n",
    "\n",
    "    plt.figure(figsize=(10, 6))\n",
    "\n",
    "    for i, metric in enumerate(metrics):\n",
    "        plt.bar(index + i * bar_width, df[metric], bar_width, label=metric.upper())\n",
    "\n",
    "    plt.xlabel('Model')\n",
    "    plt.ylabel('Score')\n",
    "    plt.title('Model Performance Comparison')\n",
    "    plt.xticks(index + bar_width / 2, models)\n",
    "    plt.ylim(0, 1)\n",
    "    plt.legend()\n",
    "    plt.grid(axis='y')\n",
    "    plt.tight_layout()\n",
    "    plt.show()\n",
    "\n",
    "# Call function\n",
    "plot_model_performance(results_df)"
   ]
  },
  {
   "cell_type": "markdown",
   "id": "ae24bbde-40bb-4bd4-906b-b65eecfb5868",
   "metadata": {},
   "source": [
    "### What Do The Results Show?"
   ]
  },
  {
   "cell_type": "markdown",
   "id": "412fbc2e-847d-4d52-8d73-62ff24d2f189",
   "metadata": {},
   "source": [
    "- Random Forest achieved the best performance with the highest accuracy and AUC.\n",
    "- Logistic Regression and Naive Bayes also performed well, with good balance between precision and recall.\n",
    "- Decision Tree is simple and interpretable but slightly less accurate.\n",
    "- Linear Regression worked surprisingly well, but it is not ideal for classification tasks."
   ]
  },
  {
   "cell_type": "markdown",
   "id": "e48efea5-944a-4696-abc3-6b6357eaff7f",
   "metadata": {},
   "source": [
    "### Which Features Were Most Important?"
   ]
  },
  {
   "cell_type": "markdown",
   "id": "3397d590-6013-430f-aa72-174cbc3e3aac",
   "metadata": {},
   "source": [
    "From our Random Forest feature importance analysis:\n",
    "- MMSE, FunctionalAssessment, and ADL were the strongest predictors.\n",
    "- Age and FamilyHistoryAlzheimers were also important.\n",
    "- Lifestyle factors like PhysicalActivity, SleepQuality, and BMI had smaller contributions.\n",
    "- Depression and CardiovascularDisease provided some additional risk information."
   ]
  },
  {
   "cell_type": "markdown",
   "id": "16167862-b947-4d4d-88d9-bcb8951a4056",
   "metadata": {},
   "source": [
    "---"
   ]
  },
  {
   "cell_type": "code",
   "execution_count": 57,
   "id": "2f54816e-63a5-4ede-95be-aeac3057db17",
   "metadata": {},
   "outputs": [
    {
     "ename": "NameError",
     "evalue": "name 'y_test' is not defined",
     "output_type": "error",
     "traceback": [
      "\u001b[0;31m---------------------------------------------------------------------------\u001b[0m",
      "\u001b[0;31mNameError\u001b[0m                                 Traceback (most recent call last)",
      "Cell \u001b[0;32mIn[57], line 6\u001b[0m\n\u001b[1;32m      3\u001b[0m \u001b[38;5;28;01mimport\u001b[39;00m \u001b[38;5;21;01mmatplotlib\u001b[39;00m\u001b[38;5;21;01m.\u001b[39;00m\u001b[38;5;21;01mpyplot\u001b[39;00m \u001b[38;5;28;01mas\u001b[39;00m \u001b[38;5;21;01mplt\u001b[39;00m\n\u001b[1;32m      5\u001b[0m \u001b[38;5;66;03m# If you still have rf_pred & y_test available:\u001b[39;00m\n\u001b[0;32m----> 6\u001b[0m rf_cm \u001b[38;5;241m=\u001b[39m confusion_matrix(y_test, rf_pred)\n\u001b[1;32m      8\u001b[0m plt\u001b[38;5;241m.\u001b[39mfigure(figsize\u001b[38;5;241m=\u001b[39m(\u001b[38;5;241m5\u001b[39m, \u001b[38;5;241m4\u001b[39m))\n\u001b[1;32m      9\u001b[0m sns\u001b[38;5;241m.\u001b[39mheatmap(rf_cm, annot\u001b[38;5;241m=\u001b[39m\u001b[38;5;28;01mTrue\u001b[39;00m, fmt\u001b[38;5;241m=\u001b[39m\u001b[38;5;124m\"\u001b[39m\u001b[38;5;124md\u001b[39m\u001b[38;5;124m\"\u001b[39m, cmap\u001b[38;5;241m=\u001b[39m\u001b[38;5;124m\"\u001b[39m\u001b[38;5;124mGreens\u001b[39m\u001b[38;5;124m\"\u001b[39m, cbar\u001b[38;5;241m=\u001b[39m\u001b[38;5;28;01mFalse\u001b[39;00m,\n\u001b[1;32m     10\u001b[0m             xticklabels\u001b[38;5;241m=\u001b[39m[\u001b[38;5;124m\"\u001b[39m\u001b[38;5;124mNo Alzheimer’s\u001b[39m\u001b[38;5;124m\"\u001b[39m, \u001b[38;5;124m\"\u001b[39m\u001b[38;5;124mAlzheimer’s\u001b[39m\u001b[38;5;124m\"\u001b[39m],\n\u001b[1;32m     11\u001b[0m             yticklabels\u001b[38;5;241m=\u001b[39m[\u001b[38;5;124m\"\u001b[39m\u001b[38;5;124mNo Alzheimer’s\u001b[39m\u001b[38;5;124m\"\u001b[39m, \u001b[38;5;124m\"\u001b[39m\u001b[38;5;124mAlzheimer’s\u001b[39m\u001b[38;5;124m\"\u001b[39m])\n",
      "\u001b[0;31mNameError\u001b[0m: name 'y_test' is not defined"
     ]
    }
   ],
   "source": [
    "from sklearn.metrics import confusion_matrix\n",
    "import seaborn as sns\n",
    "import matplotlib.pyplot as plt\n",
    "\n",
    "# If you still have rf_pred & y_test available:\n",
    "rf_cm = confusion_matrix(y_test, rf_pred)\n",
    "\n",
    "plt.figure(figsize=(5, 4))\n",
    "sns.heatmap(rf_cm, annot=True, fmt=\"d\", cmap=\"Greens\", cbar=False,\n",
    "            xticklabels=[\"No Alzheimer’s\", \"Alzheimer’s\"],\n",
    "            yticklabels=[\"No Alzheimer’s\", \"Alzheimer’s\"])\n",
    "plt.xlabel(\"Predicted\")\n",
    "plt.ylabel(\"Actual\")\n",
    "plt.title(\"Confusion Matrix – Random Forest\")\n",
    "plt.tight_layout()\n",
    "plt.show()"
   ]
  },
  {
   "cell_type": "markdown",
   "id": "a05cd13f-a409-4d31-bba7-7903c853a45c",
   "metadata": {},
   "source": [
    "---"
   ]
  },
  {
   "cell_type": "code",
   "execution_count": null,
   "id": "ed9169c4-3585-4104-8952-8c1e543e426d",
   "metadata": {},
   "outputs": [],
   "source": []
  },
  {
   "cell_type": "markdown",
   "id": "cc0ae730-670a-43ba-a56b-43d13affc880",
   "metadata": {},
   "source": [
    "## Clustering Summary\n",
    "\n",
    "- KMeans optimal number of clusters (Silhouette Score): 3\n",
    "- Mean-Shift optimal number of clusters (Bandwidth Search): 6"
   ]
  },
  {
   "cell_type": "markdown",
   "id": "8c84cdf4-8252-4e30-b1ae-e15e908dc320",
   "metadata": {},
   "source": [
    "### Cluster Profiles Interpretation\n",
    "\n",
    "| Cluster | Key Observations |\n",
    "|---------|-------------------|\n",
    "| **Cluster 0** | Baseline / average cluster |\n",
    "| **Cluster 1** | Mild Depression / Preserved Cognition |\n",
    "| **Cluster 2** | Cardiovascular Risk / High MMSE |\n",
    "| **Cluster 3** | Young + Functional Limitations + Depression |\n",
    "| **Cluster 4** | Physically Active / Cognitive Impairment |\n",
    "| **Cluster 5** | Family History / Genetic Risk / Depression |"
   ]
  },
  {
   "cell_type": "markdown",
   "id": "02c7a63c-09a0-48dc-9f7f-eae7d7e68018",
   "metadata": {},
   "source": [
    "## PCA visualization for KMeans"
   ]
  },
  {
   "cell_type": "code",
   "execution_count": 74,
   "id": "640bdf35-2fbb-4860-864b-5bbf27217822",
   "metadata": {},
   "outputs": [
    {
     "ename": "NameError",
     "evalue": "name 'labels' is not defined",
     "output_type": "error",
     "traceback": [
      "\u001b[0;31m---------------------------------------------------------------------------\u001b[0m",
      "\u001b[0;31mNameError\u001b[0m                                 Traceback (most recent call last)",
      "Cell \u001b[0;32mIn[74], line 4\u001b[0m\n\u001b[1;32m      1\u001b[0m plt\u001b[38;5;241m.\u001b[39mfigure(figsize\u001b[38;5;241m=\u001b[39m(\u001b[38;5;241m8\u001b[39m, \u001b[38;5;241m6\u001b[39m))\n\u001b[1;32m      3\u001b[0m colors \u001b[38;5;241m=\u001b[39m [\u001b[38;5;124m'\u001b[39m\u001b[38;5;124mred\u001b[39m\u001b[38;5;124m'\u001b[39m, \u001b[38;5;124m'\u001b[39m\u001b[38;5;124mblue\u001b[39m\u001b[38;5;124m'\u001b[39m, \u001b[38;5;124m'\u001b[39m\u001b[38;5;124mgreen\u001b[39m\u001b[38;5;124m'\u001b[39m, \u001b[38;5;124m'\u001b[39m\u001b[38;5;124morange\u001b[39m\u001b[38;5;124m'\u001b[39m, \u001b[38;5;124m'\u001b[39m\u001b[38;5;124mpurple\u001b[39m\u001b[38;5;124m'\u001b[39m, \u001b[38;5;124m'\u001b[39m\u001b[38;5;124mbrown\u001b[39m\u001b[38;5;124m'\u001b[39m, \u001b[38;5;124m'\u001b[39m\u001b[38;5;124mgray\u001b[39m\u001b[38;5;124m'\u001b[39m]\n\u001b[0;32m----> 4\u001b[0m \u001b[38;5;28;01mfor\u001b[39;00m cluster \u001b[38;5;129;01min\u001b[39;00m \u001b[38;5;28msorted\u001b[39m(\u001b[38;5;28mset\u001b[39m(labels)):\n\u001b[1;32m      5\u001b[0m     plt\u001b[38;5;241m.\u001b[39mscatter(\n\u001b[1;32m      6\u001b[0m         X_pca[labels \u001b[38;5;241m==\u001b[39m cluster, \u001b[38;5;241m0\u001b[39m],\n\u001b[1;32m      7\u001b[0m         X_pca[labels \u001b[38;5;241m==\u001b[39m cluster, \u001b[38;5;241m1\u001b[39m],\n\u001b[0;32m   (...)\u001b[0m\n\u001b[1;32m     12\u001b[0m         s\u001b[38;5;241m=\u001b[39m\u001b[38;5;241m80\u001b[39m\n\u001b[1;32m     13\u001b[0m     )\n\u001b[1;32m     15\u001b[0m plt\u001b[38;5;241m.\u001b[39mtitle(\u001b[38;5;124m\"\u001b[39m\u001b[38;5;124mKMeans Clustering Visualization (PCA Reduced)\u001b[39m\u001b[38;5;124m\"\u001b[39m)\n",
      "\u001b[0;31mNameError\u001b[0m: name 'labels' is not defined"
     ]
    },
    {
     "data": {
      "text/plain": [
       "<Figure size 800x600 with 0 Axes>"
      ]
     },
     "metadata": {},
     "output_type": "display_data"
    }
   ],
   "source": [
    "plt.figure(figsize=(8, 6))\n",
    "\n",
    "colors = ['red', 'blue', 'green', 'orange', 'purple', 'brown', 'gray']\n",
    "for cluster in sorted(set(labels)):\n",
    "    plt.scatter(\n",
    "        X_pca[labels == cluster, 0],\n",
    "        X_pca[labels == cluster, 1],\n",
    "        color=colors[cluster % len(colors)],\n",
    "        label=cluster_labels.get(cluster, f\"Cluster {cluster}\"),\n",
    "        alpha=0.7,\n",
    "        edgecolor='black',\n",
    "        s=80\n",
    "    )\n",
    "\n",
    "plt.title(\"KMeans Clustering Visualization (PCA Reduced)\")\n",
    "plt.xlabel(\"PCA 1\")\n",
    "plt.ylabel(\"PCA 2\")\n",
    "plt.legend(title=\"Clusters\", bbox_to_anchor=(1.05, 1), loc='upper left')\n",
    "plt.grid(alpha=0.3)\n",
    "plt.tight_layout()\n",
    "plt.show()"
   ]
  },
  {
   "cell_type": "markdown",
   "id": "84fbbc45-cc9b-45f5-acda-92452137809c",
   "metadata": {},
   "source": [
    "## PCA visualization for MeanShift"
   ]
  },
  {
   "cell_type": "code",
   "execution_count": 77,
   "id": "1c615480-fd2c-40ee-875c-78edaa3a9f07",
   "metadata": {},
   "outputs": [
    {
     "ename": "NameError",
     "evalue": "name 'ms_labels' is not defined",
     "output_type": "error",
     "traceback": [
      "\u001b[0;31m---------------------------------------------------------------------------\u001b[0m",
      "\u001b[0;31mNameError\u001b[0m                                 Traceback (most recent call last)",
      "Cell \u001b[0;32mIn[77], line 3\u001b[0m\n\u001b[1;32m      1\u001b[0m plt\u001b[38;5;241m.\u001b[39mfigure(figsize\u001b[38;5;241m=\u001b[39m(\u001b[38;5;241m8\u001b[39m, \u001b[38;5;241m6\u001b[39m))\n\u001b[0;32m----> 3\u001b[0m \u001b[38;5;28;01mfor\u001b[39;00m cluster \u001b[38;5;129;01min\u001b[39;00m \u001b[38;5;28msorted\u001b[39m(\u001b[38;5;28mset\u001b[39m(ms_labels)):\n\u001b[1;32m      4\u001b[0m     plt\u001b[38;5;241m.\u001b[39mscatter(\n\u001b[1;32m      5\u001b[0m         X_pca[ms_labels \u001b[38;5;241m==\u001b[39m cluster, \u001b[38;5;241m0\u001b[39m],\n\u001b[1;32m      6\u001b[0m         X_pca[ms_labels \u001b[38;5;241m==\u001b[39m cluster, \u001b[38;5;241m1\u001b[39m],\n\u001b[0;32m   (...)\u001b[0m\n\u001b[1;32m     11\u001b[0m         s\u001b[38;5;241m=\u001b[39m\u001b[38;5;241m80\u001b[39m\n\u001b[1;32m     12\u001b[0m     )\n\u001b[1;32m     14\u001b[0m plt\u001b[38;5;241m.\u001b[39mtitle(\u001b[38;5;124m\"\u001b[39m\u001b[38;5;124mMean-Shift Clustering Visualization (PCA Reduced)\u001b[39m\u001b[38;5;124m\"\u001b[39m)\n",
      "\u001b[0;31mNameError\u001b[0m: name 'ms_labels' is not defined"
     ]
    },
    {
     "data": {
      "text/plain": [
       "<Figure size 800x600 with 0 Axes>"
      ]
     },
     "metadata": {},
     "output_type": "display_data"
    }
   ],
   "source": [
    "plt.figure(figsize=(8, 6))\n",
    "\n",
    "for cluster in sorted(set(ms_labels)):\n",
    "    plt.scatter(\n",
    "        X_pca[ms_labels == cluster, 0],\n",
    "        X_pca[ms_labels == cluster, 1],\n",
    "        color=colors[cluster % len(colors)],\n",
    "        label=cluster_labels.get(cluster, f\"Cluster {cluster}\"),\n",
    "        alpha=0.7,\n",
    "        edgecolor='black',\n",
    "        s=80\n",
    "    )\n",
    "\n",
    "plt.title(\"Mean-Shift Clustering Visualization (PCA Reduced)\")\n",
    "plt.xlabel(\"PCA 1\")\n",
    "plt.ylabel(\"PCA 2\")\n",
    "plt.legend(title=\"Clusters\", bbox_to_anchor=(1.05, 1), loc='upper left')\n",
    "plt.grid(alpha=0.3)\n",
    "plt.tight_layout()\n",
    "plt.show()\n"
   ]
  },
  {
   "cell_type": "markdown",
   "id": "76f81afd-73c7-47b6-8692-b0bdc5799571",
   "metadata": {},
   "source": [
    "### Final Business Interpretation\n",
    "\n",
    "The Random Forest model achieved the highest classification performance (AUC: 0.87) in predicting Alzheimer's diagnosis based on patient features.\n",
    "\n",
    "Clustering analysis using both KMeans and Mean-Shift identified distinct patient subgroups, which may assist clinicians in early risk identification and targeted interventions.\n",
    "\n",
    "The combination of supervised and unsupervised learning provided complementary insights, improving both predictive accuracy and subgroup discovery.\n"
   ]
  },
  {
   "cell_type": "markdown",
   "id": "2d210f3b-a4b0-4cbd-8473-f8518ffc7788",
   "metadata": {},
   "source": [
    "---"
   ]
  },
  {
   "cell_type": "markdown",
   "id": "8f3a33fd-e35b-4924-b4c9-d64f557c5a55",
   "metadata": {},
   "source": [
    "## Full Model Comparison Table"
   ]
  },
  {
   "cell_type": "markdown",
   "id": "e329e72e-dfe2-4b08-a4ad-1d42408789ae",
   "metadata": {},
   "source": [
    "## Confusion Matrix"
   ]
  },
  {
   "cell_type": "markdown",
   "id": "a46780da-933c-4932-b69a-241aec28978b",
   "metadata": {},
   "source": [
    "## Answering Research Questions"
   ]
  },
  {
   "cell_type": "markdown",
   "id": "e053fd4d-ab2c-4fa1-ac27-327cc09b6ffa",
   "metadata": {},
   "source": [
    "## Limitations"
   ]
  },
  {
   "cell_type": "markdown",
   "id": "5abf3dd5-a6fb-444f-9464-600d8a387ca3",
   "metadata": {},
   "source": [
    "## Model Comparison – Decision Tree vs Random Forest"
   ]
  },
  {
   "cell_type": "markdown",
   "id": "5560289e-da1c-40e8-9ab7-874f4a6f643d",
   "metadata": {},
   "source": [
    "### Feature Importance - Random Forest"
   ]
  },
  {
   "cell_type": "markdown",
   "id": "277ab8cd-42c6-45e3-9e66-f63ced155b8e",
   "metadata": {},
   "source": [
    "---"
   ]
  },
  {
   "cell_type": "markdown",
   "id": "d444ff5b-f36a-4809-96ec-3c66e0a46c2b",
   "metadata": {},
   "source": [
    "---"
   ]
  },
  {
   "cell_type": "markdown",
   "id": "85f7318e-6bca-45f1-9ce8-eb0b71d80e84",
   "metadata": {},
   "source": [
    "---"
   ]
  },
  {
   "cell_type": "markdown",
   "id": "4785ca26-c839-48b4-8c02-86b3e564fb27",
   "metadata": {},
   "source": [
    "---"
   ]
  },
  {
   "cell_type": "markdown",
   "id": "f4d84681-8c37-43cd-abdb-86e22aaf5560",
   "metadata": {},
   "source": [
    "## Notebook Summary "
   ]
  },
  {
   "cell_type": "code",
   "execution_count": null,
   "id": "d7e34330-b142-4d2f-a621-e9dcd12afe2e",
   "metadata": {},
   "outputs": [],
   "source": []
  },
  {
   "cell_type": "code",
   "execution_count": 29,
   "id": "08610046-46e9-4230-86f6-bf4d4d85b428",
   "metadata": {},
   "outputs": [
    {
     "name": "stdout",
     "output_type": "stream",
     "text": [
      "Summary saved to: ../reports/06_results_and_interpretation_summary_2025-06-14_23-31-54.json\n"
     ]
    }
   ],
   "source": [
    "import sys\n",
    "sys.path.append(\"..\")\n",
    "\n",
    "from utils.save_tools import save_notebook_and_summary\n",
    "\n",
    "save_notebook_and_summary(\n",
    "    notebook_name=\"06_results_and_interpretation\",\n",
    "    summary={\n",
    "        \"description\": \"Summarized model results and answered research questions from the Alzheimer's ML project.\",\n",
    "        \"best_model\": \"Random Forest\",\n",
    "        \"best_accuracy\": 0.85,\n",
    "        \"best_auc\": 0.87,\n",
    "        \"models_evaluated\": [\n",
    "            {\"model\": \"Decision Tree\", \"accuracy\": 0.77, \"auc\": 0.74},\n",
    "            {\"model\": \"Random Forest\", \"accuracy\": 0.85, \"auc\": 0.87},\n",
    "            {\"model\": \"Logistic Regression\", \"accuracy\": 0.81, \"auc\": 0.83},\n",
    "            {\"model\": \"Naive Bayes\", \"accuracy\": 0.79, \"auc\": 0.85},\n",
    "            {\"model\": \"Linear Regression\", \"accuracy\": 0.82, \"auc\": 0.86}\n",
    "        ],\n",
    "        \"key_findings\": [\n",
    "            \"Cognitive and functional features are most predictive for Alzheimer's diagnosis.\",\n",
    "            \"Random Forest achieved the highest accuracy (85%) and ROC AUC (0.87).\",\n",
    "            \"Logistic Regression and Linear Regression also showed strong balanced performance.\",\n",
    "            \"Naive Bayes performed slightly lower but still usable.\",\n",
    "            \"All models demonstrated predictive power using patient-level clinical data.\"\n",
    "        ],\n",
    "        \"next_step\": \"Deploy Random Forest model into Streamlit app for clinical testing and usability.\"\n",
    "    }\n",
    ")\n"
   ]
  },
  {
   "cell_type": "markdown",
   "id": "b5ce4b6e-885b-4096-b0d6-2893dd013fbf",
   "metadata": {},
   "source": [
    "-----"
   ]
  }
 ],
 "metadata": {
  "kernelspec": {
   "display_name": "Python [conda env:base] *",
   "language": "python",
   "name": "conda-base-py"
  },
  "language_info": {
   "codemirror_mode": {
    "name": "ipython",
    "version": 3
   },
   "file_extension": ".py",
   "mimetype": "text/x-python",
   "name": "python",
   "nbconvert_exporter": "python",
   "pygments_lexer": "ipython3",
   "version": "3.12.2"
  }
 },
 "nbformat": 4,
 "nbformat_minor": 5
}
