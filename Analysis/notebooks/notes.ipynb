{
 "cells": [
  {
   "cell_type": "code",
   "execution_count": null,
   "id": "45ef68f7-87ee-44a2-894d-7663a917b584",
   "metadata": {},
   "outputs": [],
   "source": [
    "In this notebook, we are working with the cleaned version of the dataset, named **df_clean**. The original dataset, df, has been preprocessed to handle missing values, outliers, and formatting issues. df_clean is now used for all further analysis and modeling."
   ]
  },
  {
   "cell_type": "code",
   "execution_count": null,
   "id": "71bb20e8-148d-4cde-81bd-6c78a8ea07ed",
   "metadata": {},
   "outputs": [],
   "source": [
    "#### This notebook concludes the data cleaning and transformation steps for Alzheimer’s risk prediction. The cleaned data will now be explored further in the next notebook (03_Exploratory_Data_Analysis)."
   ]
  }
 ],
 "metadata": {
  "kernelspec": {
   "display_name": "Python [conda env:base] *",
   "language": "python",
   "name": "conda-base-py"
  },
  "language_info": {
   "codemirror_mode": {
    "name": "ipython",
    "version": 3
   },
   "file_extension": ".py",
   "mimetype": "text/x-python",
   "name": "python",
   "nbconvert_exporter": "python",
   "pygments_lexer": "ipython3",
   "version": "3.12.2"
  }
 },
 "nbformat": 4,
 "nbformat_minor": 5
}
