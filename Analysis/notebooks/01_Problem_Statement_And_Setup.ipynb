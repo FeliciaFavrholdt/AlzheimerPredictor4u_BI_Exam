{
 "cells": [
  {
   "cell_type": "markdown",
   "id": "035235c6-25ed-474f-998e-32affb0b1ac2",
   "metadata": {},
   "source": [
    "# Notebook 01 - Problem Statement And Setup"
   ]
  },
  {
   "cell_type": "markdown",
   "id": "961d5686-447c-48a9-ace2-27beb9cd755d",
   "metadata": {},
   "source": [
    "### title\n",
    "\n",
    "**Group 4, l25dat4bi1f**\n",
    "CPH Business Academy Lyngby \n",
    "Exam Project 2025**\n",
    "\n",
    "### Collaborators   \n",
    "- Felicia Favrholdt — cph-ff62@cphbusiness.dk  \n",
    "- Fatima Majid Shamcizadh — cph-fs156@cphbusiness.dk\n",
    "\n",
    "### Project Title\n",
    "\n",
    "### Github Links \n",
    "- [Analysis & Streamlit]()\n",
    "\n",
    "### Problem Statement\n",
    "\n",
    "\n",
    "### Research Questions\n",
    "1.\n"
   ]
  },
  {
   "cell_type": "markdown",
   "id": "b3be8bec-8e6d-40c2-988e-b2eef5b14ddc",
   "metadata": {},
   "source": [
    "### Motivation\n",
    "\n",
    "\n",
    "\n"
   ]
  },
  {
   "cell_type": "markdown",
   "id": "49271a31-f6b5-40f4-9434-384318480766",
   "metadata": {},
   "source": [
    "### Project Goals\n",
    "\n",
    "\n",
    "\n",
    "### Hypotheses\n",
    "\n",
    "\n",
    "\n"
   ]
  },
  {
   "cell_type": "markdown",
   "id": "c2718efe-1984-4c22-b369-c5c14817c36b",
   "metadata": {},
   "source": [
    "---------------------------------"
   ]
  },
  {
   "cell_type": "markdown",
   "id": "f0c505a0-ab8f-4e75-bcb4-2ec73e55be82",
   "metadata": {},
   "source": [
    "## Project Scope and Impact\n",
    "\n",
    "\n",
    "\n",
    "### Key Objectives\n",
    "\n",
    "\n",
    "\n",
    "---\n",
    "\n",
    "## Expected Outcomes\n",
    "\n",
    "The project will deliver the following components:\n",
    "\n",
    "\n",
    "- Well-documented, reproducible code and workflows across modular Jupyter notebooks\n",
    "\n",
    "---\n",
    "\n",
    "## Impact and Beneficiaries\n",
    "\n"
   ]
  },
  {
   "cell_type": "markdown",
   "id": "2094089a-b4a8-4582-900a-17db9320495e",
   "metadata": {},
   "source": [
    "---------------------------------------"
   ]
  },
  {
   "cell_type": "markdown",
   "id": "bbfa1aa1-bbe1-496b-a50e-5511e7ec1027",
   "metadata": {},
   "source": [
    "## Brief Annotation\n",
    "\n",
    "**1. Which challenge would you like to address?**\n",
    "\n",
    "\n",
    "**2. Why is this challenge an important or interesting research goal?**\n",
    "    \n",
    "\n",
    "**3. What is the expected solution your project would provide?**\n",
    "    \n",
    "**4. What would be the positive impact of the solution, and which category of users could benefit from it?**\n"
   ]
  },
  {
   "cell_type": "markdown",
   "id": "421c7666-4b77-4ee2-899e-c5fff97b628b",
   "metadata": {},
   "source": [
    "----------------------------------------"
   ]
  },
  {
   "cell_type": "markdown",
   "id": "0e9d2371-a5d8-4574-aa6b-c5aaf2bd2b75",
   "metadata": {},
   "source": [
    "## Notebooks\n",
    "\n",
    "The project is implemented through XX modular notebooks:\n",
    "\n",
    "- **01_Problem_Statement_and_Setup**  \n",
    "   Define the research goals, problem formulation, and prepare the working environment.\n",
    "\n",
    "- **02_Dataset_Cleaning_Overview**  \n",
    "   Merge TED datasets, clean raw fields, drop irrelevant columns, and document preprocessing logic.\n",
    "\n",
    "- **03_Data_Loading_and_Preprocessing**  \n",
    "   ....\n",
    "\n",
    "- **04_Exploratory_Data_Analysis (EDA)**  \n",
    "   ....\n",
    "\n",
    "- **05_Model_Training_and_Evaluation**  \n",
    "   Train classification models to ....\n",
    "\n",
    "- **06_Results_and_Interpretation**  \n",
    "   Interpret model outputs, extract feature importance, and design content feedback strategies."
   ]
  },
  {
   "cell_type": "markdown",
   "id": "f918615f-dcd1-4ae5-ab35-3f139ec1a6bd",
   "metadata": {},
   "source": [
    "------------------------------"
   ]
  },
  {
   "cell_type": "markdown",
   "id": "db442c9a-1f18-41b9-b113-84c51b2a7082",
   "metadata": {},
   "source": [
    "### Streamlit Application\n",
    "\n",
    "A separate **Streamlit web application** is used to deliver feedback interactively, allowing users to .....\n"
   ]
  },
  {
   "cell_type": "markdown",
   "id": "9202030f-6470-45a9-baa3-b07c9ff7f06e",
   "metadata": {},
   "source": [
    "--------------------------------"
   ]
  },
  {
   "cell_type": "markdown",
   "id": "38e79327-a2f0-43c7-ba4c-e97bcd282309",
   "metadata": {},
   "source": [
    "## Execution Plan: BI Sprints\n",
    "\n",
    "**Sprint 1: Problem Formulation**  \n",
    "Notebook: `insert notebook`  \n",
    "Focus: Define problem, goals, research questions, and project structure.  \n",
    "\n",
    "**Sprint 2: Data Collection & Cleaning**  \n",
    "Notebook: `insert notebook`  \n",
    "Focus: \n",
    "\n",
    "**Sprint 3: Feature Engineering and Machine Learning**  \n",
    "Notebooks: `insert notebook`  \n",
    "Focus:   \n",
    "\n",
    "**Sprint 4: Business Application**  \n",
    "Assets: `streamlit_app.py`, `insert notebook`  \n",
    "Focus: Deploy a user-facing Streamlit application that provides actionable presentation feedback. Include visual interpretation and documentation of results.\n",
    "\n",
    "This project follows a structured BI development lifecycle, using notebooks for reproducible analysis and Streamlit for interactive delivery."
   ]
  },
  {
   "cell_type": "markdown",
   "id": "fe8a1097-99f2-4379-b41d-e502ab3c47e7",
   "metadata": {},
   "source": [
    "\n",
    "#### Team Member Engagement\n",
    "\n",
    "| Member    | Tasks                                         | Estimated Deadline |\n",
    "|-----------|-----------------------------------------------|--------------------|\n",
    "| Fatima    | Sprint 1: Problem Formulation                 | Wednesday d. 4/6-25|\n",
    "| Felicia   | Sprint 2: Data Preparation                    | Monday    d. 4/6-25|\n",
    "| Felicia   | Sprint 3: Data Modelling                      | Friday    d. 4/6-25|\n",
    "| Fatima    | Stage 4: Business Application                 | Monday    d. 4/6-25|\n",
    "\n",
    "All members have been involved in review and testing before deliverables were pushed to GitHub or submitted.\n"
   ]
  },
  {
   "cell_type": "code",
   "execution_count": null,
   "id": "c516356a-ad25-4444-8620-d3575b07d1f1",
   "metadata": {},
   "outputs": [],
   "source": [
    "## Project Directory Structure\n",
    "\n",
    "insert project structure here \n",
    "### Workflow Procedures\n",
    "\n",
    "- Notebooks save processed files (`.csv`) and `.json` summaries to ensure reproducibility.\n",
    "- `IPython.notebook.save_checkpoint()` ensures notebook state is saved on run.\n",
    "- Preprocessed data is versioned (e.g., `cleaned_data_v1.csv`).\n",
    "- ML models are saved using `joblib` for app integration.\n",
    "- Final review and packaging handled before exam hand-in."
   ]
  },
  {
   "cell_type": "markdown",
   "id": "185645f9-7188-49ad-9360-6fb9420c21d6",
   "metadata": {},
   "source": [
    "------------------------------"
   ]
  },
  {
   "cell_type": "markdown",
   "id": "b8f36215-b67e-4ae7-bd28-8dd51a0f9a43",
   "metadata": {},
   "source": [
    "---------------------------"
   ]
  },
  {
   "cell_type": "markdown",
   "id": "dd5e2e40-8ad3-45f9-87f6-511f30997184",
   "metadata": {},
   "source": [
    "## Environment Setup\n",
    "\n",
    "We use standard Python libraries for data analysis, natural language processing, and machine learning. All paths are defined as relative to ensure reproducibility across machines and platforms.\n",
    "\n",
    "### Libraries Used\n",
    "\n",
    "- **Pandas** — Data manipulation and DataFrame operations  \n",
    "- **NumPy** — Numerical computations  \n",
    "- **Matplotlib & Seaborn** — Data visualization  \n",
    "- **Scikit-learn** — Modeling, metrics, and preprocessing tools  \n",
    "- **Joblib** — Model persistence  \n",
    "- **Streamlit** — Interactive web application for feedback delivery\n",
    "\n",
    "### Setup Procedures\n",
    "\n"
   ]
  },
  {
   "cell_type": "markdown",
   "id": "24620d42-9f8e-4521-964a-9f8b0425abaf",
   "metadata": {},
   "source": [
    "#### Development Tools\n",
    "\n",
    "- **IDE:** Visual Studio Code (VS Code) with Jupyter support\n",
    "- **Version Control:** Git (GitHub remote)\n",
    "- **Package Management:** Anaconda / pip (via `requirements.txt`)\n",
    "- **Notebook Environment:** Jupyter Notebooks, Streamlit for deployment"
   ]
  },
  {
   "cell_type": "markdown",
   "id": "cf8f967a-a01d-4a16-a38b-3f29141aff35",
   "metadata": {},
   "source": [
    "\n",
    "### Platform Requirements\n",
    "\n",
    "- **Python** 3.9 or higher  \n",
    "- **Jupyter Notebook** (or Visual Studio Code with Jupyter extension)  \n",
    "- **Streamlit** version 1.20 or later  \n",
    "\n",
    "All notebooks are executed from within the `notebooks/` directory. Output files such as datasets, visualizations, and model summaries are saved to corresponding subdirectories located one level up for consistency across the project."
   ]
  },
  {
   "cell_type": "markdown",
   "id": "1415ff23-f849-4cfb-8ba5-41f809cdf85e",
   "metadata": {},
   "source": [
    "------------------------------------"
   ]
  },
  {
   "cell_type": "markdown",
   "id": "c61bcefc-edf4-4af2-8f17-9de11a4e2c2f",
   "metadata": {},
   "source": [
    "### Project initialization"
   ]
  },
  {
   "cell_type": "code",
   "execution_count": 68,
   "id": "e5055505-6730-4476-adf1-3b3f3917d077",
   "metadata": {},
   "outputs": [
    {
     "name": "stdout",
     "output_type": "stream",
     "text": [
      "Environment initialized.\n"
     ]
    }
   ],
   "source": [
    "from utils.setup import init_environment\n",
    "init_environment()"
   ]
  },
  {
   "cell_type": "markdown",
   "id": "86284842-7100-43ef-99c3-6a70605a20d6",
   "metadata": {},
   "source": [
    "### Initialization Function\n",
    "\n",
    "The `init_environment()` function performs the following setup tasks:\n",
    "\n",
    "- Applies consistent Seaborn and Matplotlib visual styles\n",
    "- Verifies the existence of required directories: `../data`, `../plots`, `../models`, and `../reports`\n",
    "- Ensures a clean, reproducible environment for all notebooks"
   ]
  },
  {
   "cell_type": "markdown",
   "id": "b9b0ceff-cc18-406e-aab2-713f42694622",
   "metadata": {},
   "source": [
    "-------------------"
   ]
  },
  {
   "cell_type": "code",
   "execution_count": 72,
   "id": "6e959fd3-b7d3-41bc-a5c5-b42a9b33b1c7",
   "metadata": {},
   "outputs": [
    {
     "name": "stdout",
     "output_type": "stream",
     "text": [
      "Environment setup complete.\n"
     ]
    }
   ],
   "source": [
    "# Import libraries\n",
    "import os\n",
    "import pandas as pd\n",
    "import numpy as np\n",
    "import matplotlib.pyplot as plt\n",
    "import seaborn as sns\n",
    "\n",
    "# Apply Seaborn styling (this sets both matplotlib and seaborn visuals)\n",
    "sns.set_theme(style=\"whitegrid\", palette=\"deep\")\n",
    "\n",
    "\n",
    "# Create directories for reproducibility\n",
    "folders = [\"../data\", \"../models\", \"../plots\", \"../reports\"]\n",
    "for folder in folders:\n",
    "    os.makedirs(folder, exist_ok=True)\n",
    "\n",
    "print(\"Environment setup complete.\")"
   ]
  },
  {
   "cell_type": "code",
   "execution_count": null,
   "id": "37b3341d-2031-48dc-9ec2-cf07db1130c7",
   "metadata": {},
   "outputs": [
    {
     "data": {
      "application/javascript": "IPython.notebook.save_checkpoint();",
      "text/plain": [
       "<IPython.core.display.Javascript object>"
      ]
     },
     "metadata": {},
     "output_type": "display_data"
    },
    {
     "name": "stdout",
     "output_type": "stream",
     "text": [
      "Notebook save triggered.\n",
      "Summary saved to: ../reports/01_problem_statement_and_setup_summary_2025-05-26_03-38-27.json\n"
     ]
    }
   ],
   "source": [
    "from utils.save_tools import save_notebook_and_summary\n",
    "\n",
    "save_notebook_and_summary(\n",
    "    notebook_name=\"01_problem_statement_and_setup\",\n",
    "    summary={\n",
    "        \"description\": \"Established the project scope and objectives for SpeakScape, outlined key research questions, defined the BI sprint structure, and initialized the working environment.\",\n",
    "        \"team_members\": [\n",
    "            \"Felicia Favrholdt\",\n",
    "            \"Fatima Majid Shamcizadh\"\n",
    "        ],\n",
    "        \"sprints_defined\": 4,\n",
    "        \"notebooks_planned\": [\n",
    "            \"01_problem_statement_and_setup\",\n",
    "            \"02_dataset_cleaning_overview\",\n",
    "            \"03_data_loading_and_preprocessing\",\n",
    "            \"04_exploratory_data_analysis\",\n",
    "            \"05_model_training_and_evaluation\",\n",
    "            \"06_results_and_interpretation\"\n",
    "        ],\n",
    "        \"folders_created\": [\"data\", \"models\", \"plots\", \"reports\"],\n",
    "        \"tools_used\": [\n",
    "            \"Python 3.9\", \"Jupyter Notebook\", \"VS Code\", \"GitHub\", \"Streamlit\"\n",
    "        ]\n",
    "    }\n",
    ")\n"
   ]
  },
  {
   "cell_type": "markdown",
   "id": "9f39c3bc-ff08-4b29-bbc5-880591ad63f6",
   "metadata": {},
   "source": [
    "------------------------"
   ]
  }
 ],
 "metadata": {
  "kernelspec": {
   "display_name": "Python [conda env:base] *",
   "language": "python",
   "name": "conda-base-py"
  },
  "language_info": {
   "codemirror_mode": {
    "name": "ipython",
    "version": 3
   },
   "file_extension": ".py",
   "mimetype": "text/x-python",
   "name": "python",
   "nbconvert_exporter": "python",
   "pygments_lexer": "ipython3",
   "version": "3.12.2"
  }
 },
 "nbformat": 4,
 "nbformat_minor": 5
}
