{
 "cells": [
  {
   "cell_type": "markdown",
   "id": "035235c6-25ed-474f-998e-32affb0b1ac2",
   "metadata": {},
   "source": [
    "# Notebook 01 - Problem Statement And Setup"
   ]
  },
  {
   "cell_type": "markdown",
   "id": "961d5686-447c-48a9-ace2-27beb9cd755d",
   "metadata": {},
   "source": [
    "### Project Title  \n",
    "**AlzheimerPredictor4u**\n",
    "\n",
    "---\n",
    "\n",
    "### Group Info  \n",
    "**Group 4, l25dat4bi1f**  \n",
    "*CPH Business Academy Lyngby*  \n",
    "*Exam Project 2025*\n",
    "\n",
    "---\n",
    "\n",
    "### Collaborators  \n",
    "- Felicia Favrholdt — cph-ff62@cphbusiness.dk  \n",
    "- Fatima Majid Shamcizadh — cph-fs156@cphbusiness.dk\n",
    "\n",
    "---\n",
    "\n",
    "### GitHub Links  \n",
    "- **Repository**: [AlzheimerPredictor4u_BI_Exam](https://github.com/FeliciaFavrholdt/AlzheimerPredictor4u_BI_Exam.git)  \n",
    "- **Streamlit Folder**: Located inside the same repository under `/streamlit_app/`\n",
    "\n",
    "---\n",
    "\n",
    "### Problem Statement  \n",
    "*How can we use AI and BI based on categories like age, gender, lifestyle, and health to predict that a person has Alzheimer’s?*\n",
    "\n",
    "---\n",
    "\n",
    "### Research Questions  \n",
    "1. Can we predict the stage of Alzheimer’s disease using patient demographic and clinical data?  \n",
    "2. Which features are the most influential in disease progression?  \n",
    "3. Can we build a dashboard to visualize disease stages for clinical decision-making?\n",
    "\n"
   ]
  },
  {
   "cell_type": "markdown",
   "id": "b3be8bec-8e6d-40c2-988e-b2eef5b14ddc",
   "metadata": {},
   "source": [
    "### Motivation \n",
    "Our motivation is to help doctors and healthcare staff detect Alzheimer’s disease at an earlier stage, so patients can get the right treatment before it is too late. Alzheimer’s is one of the most common types of dementia and affects millions of people around the world. If the disease is discovered early, it can improve the patient’s quality of life and slow down the progression. In this project, we want to explore how Business Intelligence (BI) and Artificial Intelligence (AI) can be used to work with patient data like age, gender, health, and lifestyle. By analyzing these data, we hope to find patterns that can help predict how far the disease has come, so doctors and nurses can make better and faster decisions. \n",
    "\n",
    "\n",
    "\n"
   ]
  },
  {
   "cell_type": "markdown",
   "id": "49271a31-f6b5-40f4-9434-384318480766",
   "metadata": {},
   "source": [
    "### Project Goals\n",
    "The main goal of this project is to build a simple and useful system that can help doctors understand how far a person is in their Alzheimer’s disease. We want to do this by using AI and BI methods on real patient data. Our goals include:  \n",
    "- Creating a machine learning model that can predict the stage of the disease  \n",
    "- Finding out which patient features (like age, lifestyle, health) are most important  \n",
    "- Making an interactive dashboard that shows the predictions in a clear and easy way  \n",
    "\n",
    "\n",
    "\n",
    "### Hypotheses\n",
    "In this project, we expect to find the following patterns in the data:  \n",
    "- Patients over the age of 80 have more than a 60% chance of having Alzheimer’s  \n",
    "- At least 50% of patients with a family history of Alzheimer’s also have the disease  \n",
    "- Only 10% of physically active patients between 60 and 70 years live longer than average compared to other diagnosed patients.\n",
    "\n",
    "\n"
   ]
  },
  {
   "cell_type": "markdown",
   "id": "c2718efe-1984-4c22-b369-c5c14817c36b",
   "metadata": {},
   "source": [
    "---------------------------------"
   ]
  },
  {
   "cell_type": "markdown",
   "id": "f0c505a0-ab8f-4e75-bcb4-2ec73e55be82",
   "metadata": {},
   "source": [
    "## Project Scope and Impact\n",
    "This project is focused on using data from real patients to explore how we can predict the stage of Alzheimer’s disease. We work with clinical and demographic data and apply AI and BI tools to create a solution that can support healthcare professionals. The project follows a structured development process with four sprints, covering problem definition, data cleaning, machine learning, and building a Streamlit dashboard.\n",
    "\n",
    "\n",
    "### Key Objectives\n",
    "- Use patient data to build a model that can predict Alzheimer’s disease stage  \n",
    "- Explore which features are most important (age, gender, health, etc.)  \n",
    "- Clean and prepare the data using BI methods  \n",
    "- Make a dashboard that is easy to use for non technical users like doctors or nurses  \n",
    "- Document every step in Jupyter Notebooks and share the solution on GitHub  \n",
    "\n",
    "\n",
    "\n",
    "---\n",
    "\n",
    "## Expected Outcomes\n",
    "The project will deliver the following components:\n",
    "- A clean and structured dataset ready for analysis  \n",
    "- A machine learning model that predicts disease stage with visual output  \n",
    "- Well-documented, reproducible code and workflows across modular Jupyter notebooks  \n",
    "- A Streamlit dashboard that presents the results clearly  \n",
    "- A full project description with problem statement, hypotheses, and interpretation of results \n",
    "- Well-documented, reproducible code and workflows across modular Jupyter notebooks\n",
    "\n",
    "---\n",
    "\n",
    "## Impact and Beneficiaries\n",
    "The solution we develop could help healthcare professionals make faster and better decisions when diagnosing and treating Alzheimer’s. It can also save time and support early detection, which is important for improving the quality of life for patients. The main users who can benefit are doctors, nurses, clinics, and hospitals that work with elderly or memory care patients.\n"
   ]
  },
  {
   "cell_type": "markdown",
   "id": "2094089a-b4a8-4582-900a-17db9320495e",
   "metadata": {},
   "source": [
    "---------------------------------------"
   ]
  },
  {
   "cell_type": "markdown",
   "id": "bbfa1aa1-bbe1-496b-a50e-5511e7ec1027",
   "metadata": {},
   "source": [
    "## Brief Annotation\n",
    "\n",
    "**1. Which challenge would you like to address?**  \n",
    "We want to address the challenge of predicting the stage of Alzheimer’s disease using patient demographic and clinical data, such as age, gender, health history, and lifestyle information.\n",
    "\n",
    "**2. Why is this challenge an important or interesting research goal?**  \n",
    "It is important because early understanding of the disease stage can help doctors give the right treatment at the right time, before it is too late. It can also improve the patient’s quality of life and slow down the development of the disease.\n",
    "\n",
    "**3. What is the expected solution your project would provide?**  \n",
    "Our solution includes a machine learning model that predicts the disease stage and a simple, easy-to-use dashboard to show the results in a clear way.\n",
    "\n",
    "**4. What would be the positive impact of the solution, and which category of users could benefit from it?**  \n",
    "The solution can help doctors and healthcare staff make faster and better decisions. It can be used in clinics or hospitals to support more effective treatment and care for patients with Alzheimer’s.\n"
   ]
  },
  {
   "cell_type": "markdown",
   "id": "421c7666-4b77-4ee2-899e-c5fff97b628b",
   "metadata": {},
   "source": [
    "----------------------------------------"
   ]
  },
  {
   "cell_type": "markdown",
   "id": "0e9d2371-a5d8-4574-aa6b-c5aaf2bd2b75",
   "metadata": {},
   "source": [
    "## Notebooks\n",
    "\n",
    "The project is implemented through XX modular notebooks:\n",
    "\n",
    "- **01_Problem_Statement_and_Setup**  \n",
    "   Define the research goals, problem formulation, and prepare the working environment by creating folders, setting up libraries, and documenting the project structure. Making it easier to navigate around.\n",
    "\n",
    "- **02_Dataset_Cleaning_Overview**  \n",
    "   Load the Alzheimer’s dataset, check for missing values, clean and rename columns, remove duplicates or irrelevant features, and describe the structure of the data.\n",
    "\n",
    "- **03_Data_Loading_and_Preprocessing**  \n",
    "   Prepare the dataset for analysis by encoding categorical features, scaling numeric values, handling outliers, and selecting the most important variables for modeling.\n",
    "\n",
    "- **04_Exploratory_Data_Analysis (EDA)**  \n",
    "   Explore the data using descriptive statistics and visualizations. Create graphs to show age distribution, gender ratio, disease progression, and correlations between features.\n",
    "\n",
    "- **05_Model_Training_and_Evaluation**  \n",
    "   Train classification models (such as Logistic Regression, Naive Bayes, or Decision Trees) to predict the disease stage. Evaluate the models using accuracy scores, confusion matrices, and cross-validation.\n",
    "\n",
    "- **06_Results_and_Interpretation**  \n",
    "   Show the final results, explain which features had the most influence on predictions, and prepare visual output for the Streamlit dashboard. Summarize findings and discuss model performance."
   ]
  },
  {
   "cell_type": "markdown",
   "id": "f918615f-dcd1-4ae5-ab35-3f139ec1a6bd",
   "metadata": {},
   "source": [
    "------------------------------"
   ]
  },
  {
   "cell_type": "markdown",
   "id": "db442c9a-1f18-41b9-b113-84c51b2a7082",
   "metadata": {},
   "source": [
    "### Streamlit Application\n",
    "A separate **Streamlit web application** is used to deliver feedback interactively, allowing users to explore the predictions and results without needing technical knowledge. The dashboard includes an interface where users can upload data, view visualizations, and see model outputs in a simple and intuitive way. This makes the solution accessible for doctors, nurses, or clinical staff who want to understand the disease stage of a patient based on selected features.\n",
    "\n",
    "The Streamlit app also includes charts, graphs, and summary tables based on the machine learning results. It allows users to filter, compare, and interpret the findings visually. The app is built using standard Python libraries and will be stored in a dedicated folder within the GitHub repository.\n",
    "\n",
    "If time allows, we also plan to integrate a simple **chatbot** using GenAI tools (e.g., RAG or LangChain) that can answer basic questions based on the data and model results. This would make the dashboard more interactive and user-friendly, especially for healthcare professionals looking for quick insights.\n",
    "\n",
    "\n"
   ]
  },
  {
   "cell_type": "markdown",
   "id": "9202030f-6470-45a9-baa3-b07c9ff7f06e",
   "metadata": {},
   "source": [
    "--------------------------------"
   ]
  },
  {
   "cell_type": "markdown",
   "id": "38e79327-a2f0-43c7-ba4c-e97bcd282309",
   "metadata": {},
   "source": [
    "## Execution Plan: BI Sprints\n",
    "\n",
    "**Sprint 1: Problem Formulation**  \n",
    "Notebook: `01_problem_statement_and_setup.ipynb`  \n",
    "Focus: Define the problem, goals, research questions, and project structure. Prepare the working environment, folders, and library setup.\n",
    "\n",
    "**Sprint 2: Data Collection & Cleaning**  \n",
    "Notebook: `02_dataset_cleaning_overview.ipynb`  \n",
    "Focus: Load the Alzheimer’s dataset, clean the data, check for missing values, drop irrelevant columns, and ensure the structure is ready for analysis.\n",
    "\n",
    "**Sprint 3: Feature Engineering and Machine Learning**  \n",
    "Notebooks: `03_data_loading_and_preprocessing.ipynb`, `05_model_training_and_evaluation.ipynb`  \n",
    "Focus: Prepare and transform features, apply scaling and encoding, train classification models, evaluate performance, and select the best model for deployment.\n",
    "\n",
    "**Sprint 4: Business Application**  \n",
    "Assets: `streamlit_app.py`, `06_results_and_interpretation.ipynb`  \n",
    "Focus: Deploy a user-facing Streamlit application that provides simple and clear access to model predictions. Include charts, feature importance, and final explanations for clinical decision support. If time allows, consider adding a chatbot for natural language interaction with the results.\n",
    "\n",
    "This project follows a structured BI development lifecycle, using notebooks for reproducible analysis and Streamlit for interactive delivery.\n"
   ]
  },
  {
   "cell_type": "markdown",
   "id": "fe8a1097-99f2-4379-b41d-e502ab3c47e7",
   "metadata": {},
   "source": [
    "\n",
    "#### Team Member Engagement\n",
    "\n",
    "| Member    | Tasks                                         | Estimated Deadline |\n",
    "|-----------|-----------------------------------------------|--------------------|\n",
    "| Fatima    | Sprint 1: Problem Formulation                 | Wednesday d. 4/6-25|\n",
    "| Felicia   | Sprint 2: Data Preparation                    | Monday    d. 4/6-25|\n",
    "| Felicia   | Sprint 3: Data Modelling                      | Friday    d. 4/6-25|\n",
    "| Fatima    | Stage 4: Business Application                 | Monday    d. 4/6-25|\n",
    "\n",
    "All members have been involved in review and testing before deliverables were pushed to GitHub or submitted.\n"
   ]
  },
  {
   "cell_type": "markdown",
   "id": "a6f1a47e",
   "metadata": {},
   "source": [
    "## Project Directory Structure\n",
    "\n",
    "The project is organized in the following folder structure to support modular development and reproducibility:\n",
    "/AlzheimerPredictor4u_BI_Exam/\n",
    "│\n",
    "├── data/ # Raw and cleaned datasets (.csv)\n",
    "├── models/ # Saved ML models (e.g., .pkl or .joblib)\n",
    "├── plots/ # Generated figures and visualizations\n",
    "├── reports/ # Summary reports, exported results\n",
    "├── notebooks/ # All Jupyter notebooks\n",
    "│ ├── 01_problem_statement_and_setup.ipynb\n",
    "│ ├── 02_dataset_cleaning_overview.ipynb\n",
    "│ ├── 03_data_loading_and_preprocessing.ipynb\n",
    "│ ├── 04_exploratory_data_analysis.ipynb\n",
    "│ ├── 05_model_training_and_evaluation.ipynb\n",
    "│ └── 06_results_and_interpretation.ipynb\n",
    "├── streamlit_app/ # Streamlit app script and assets\n",
    "│ └── streamlit_app.py\n",
    "├── utils/ # Utility scripts for setup, saving, etc.\n",
    "│ ├── setup.py\n",
    "│ └── save_tools.py\n",
    "├── requirements.txt # Project dependencies\n",
    "├── README.md # Project documentation\n",
    "└── .gitignore # Files and folders to ignore in version control"
   ]
  },
  {
   "cell_type": "markdown",
   "id": "185645f9-7188-49ad-9360-6fb9420c21d6",
   "metadata": {},
   "source": [
    "------------------------------"
   ]
  },
  {
   "cell_type": "markdown",
   "id": "b8f36215-b67e-4ae7-bd28-8dd51a0f9a43",
   "metadata": {},
   "source": [
    "---------------------------"
   ]
  },
  {
   "cell_type": "markdown",
   "id": "dd5e2e40-8ad3-45f9-87f6-511f30997184",
   "metadata": {},
   "source": [
    "## Environment Setup\n",
    "\n",
    "We use standard Python libraries for data analysis, machine learning, and dashboard development. All paths are defined as relative to ensure reproducibility across machines and platforms.\n",
    "\n",
    "### Libraries Used\n",
    "\n",
    "- **Pandas** — Data manipulation and DataFrame operations  \n",
    "- **NumPy** — Numerical computations  \n",
    "- **Matplotlib & Seaborn** — Data visualization  \n",
    "- **Scikit-learn** — Modeling, metrics, and preprocessing tools  \n",
    "- **Joblib** — Model persistence  \n",
    "- **Streamlit** — Interactive web application for feedback delivery\n",
    "\n",
    "### Setup Procedures\n",
    "\n",
    "To ensure consistency and structure throughout the project, we use a setup function stored in `utils/setup.py`. This function:\n",
    "\n",
    "- Applies a consistent visual style for all plots  \n",
    "- Verifies that key folders (`/data`, `/models`, `/plots`, `/reports`) exist  \n",
    "- Ensures the working environment is ready before any notebook is executed  \n"
   ]
  },
  {
   "cell_type": "markdown",
   "id": "24620d42-9f8e-4521-964a-9f8b0425abaf",
   "metadata": {},
   "source": [
    "#### Development Tools\n",
    "\n",
    "- **IDE:** Visual Studio Code (VS Code) with Jupyter support\n",
    "- **Version Control:** Git (GitHub remote)\n",
    "- **Package Management:** Anaconda / pip (via `requirements.txt`)\n",
    "- **Notebook Environment:** Jupyter Notebooks, Streamlit for deployment"
   ]
  },
  {
   "cell_type": "markdown",
   "id": "cf8f967a-a01d-4a16-a38b-3f29141aff35",
   "metadata": {},
   "source": [
    "\n",
    "### Platform Requirements\n",
    "\n",
    "- **Python** 3.9 or higher  \n",
    "- **Jupyter Notebook** (or Visual Studio Code with Jupyter extension)  \n",
    "- **Streamlit** version 1.20 or later  \n",
    "\n",
    "All notebooks are executed from within the `notebooks/` directory. Output files such as datasets, visualizations, and model summaries are saved to corresponding subdirectories located one level up for consistency across the project."
   ]
  },
  {
   "cell_type": "markdown",
   "id": "1415ff23-f849-4cfb-8ba5-41f809cdf85e",
   "metadata": {},
   "source": [
    "------------------------------------"
   ]
  },
  {
   "cell_type": "markdown",
   "id": "c61bcefc-edf4-4af2-8f17-9de11a4e2c2f",
   "metadata": {},
   "source": [
    "### Project initialization"
   ]
  },
  {
   "cell_type": "code",
   "execution_count": 68,
   "id": "e5055505-6730-4476-adf1-3b3f3917d077",
   "metadata": {},
   "outputs": [
    {
     "name": "stdout",
     "output_type": "stream",
     "text": [
      "Environment initialized.\n"
     ]
    }
   ],
   "source": [
    "from utils.setup import init_environment\n",
    "init_environment()"
   ]
  },
  {
   "cell_type": "markdown",
   "id": "86284842-7100-43ef-99c3-6a70605a20d6",
   "metadata": {},
   "source": [
    "### Initialization Function\n",
    "\n",
    "The `init_environment()` function performs the following setup tasks:\n",
    "\n",
    "- Applies consistent Seaborn and Matplotlib visual styles\n",
    "- Verifies the existence of required directories: `../data`, `../plots`, `../models`, and `../reports`\n",
    "- Ensures a clean, reproducible environment for all notebooks"
   ]
  },
  {
   "cell_type": "markdown",
   "id": "b9b0ceff-cc18-406e-aab2-713f42694622",
   "metadata": {},
   "source": [
    "-------------------"
   ]
  },
  {
   "cell_type": "code",
   "execution_count": 72,
   "id": "6e959fd3-b7d3-41bc-a5c5-b42a9b33b1c7",
   "metadata": {},
   "outputs": [
    {
     "name": "stdout",
     "output_type": "stream",
     "text": [
      "Environment setup complete.\n"
     ]
    }
   ],
   "source": [
    "# Import libraries\n",
    "import os\n",
    "import pandas as pd\n",
    "import numpy as np\n",
    "import matplotlib.pyplot as plt\n",
    "import seaborn as sns\n",
    "\n",
    "# Apply Seaborn styling (this sets both matplotlib and seaborn visuals)\n",
    "sns.set_theme(style=\"whitegrid\", palette=\"deep\")\n",
    "\n",
    "\n",
    "# Create directories for reproducibility\n",
    "folders = [\"../data\", \"../models\", \"../plots\", \"../reports\"]\n",
    "for folder in folders:\n",
    "    os.makedirs(folder, exist_ok=True)\n",
    "\n",
    "print(\"Environment setup complete.\")"
   ]
  },
  {
   "cell_type": "code",
   "execution_count": null,
   "id": "37b3341d-2031-48dc-9ec2-cf07db1130c7",
   "metadata": {},
   "outputs": [
    {
     "data": {
      "application/javascript": "IPython.notebook.save_checkpoint();",
      "text/plain": [
       "<IPython.core.display.Javascript object>"
      ]
     },
     "metadata": {},
     "output_type": "display_data"
    },
    {
     "name": "stdout",
     "output_type": "stream",
     "text": [
      "Notebook save triggered.\n",
      "Summary saved to: ../reports/01_problem_statement_and_setup_summary_2025-05-26_03-38-27.json\n"
     ]
    }
   ],
   "source": [
    "from utils.save_tools import save_notebook_and_summary\n",
    "\n",
    "save_notebook_and_summary(\n",
    "    notebook_name=\"01_problem_statement_and_setup\",\n",
    "    summary={\n",
    "        \"description\": \"Established the project scope and objectives for SpeakScape, outlined key research questions, defined the BI sprint structure, and initialized the working environment.\",\n",
    "        \"team_members\": [\n",
    "            \"Felicia Favrholdt\",\n",
    "            \"Fatima Majid Shamcizadh\"\n",
    "        ],\n",
    "        \"sprints_defined\": 4,\n",
    "        \"notebooks_planned\": [\n",
    "            \"01_problem_statement_and_setup\",\n",
    "            \"02_dataset_cleaning_overview\",\n",
    "            \"03_data_loading_and_preprocessing\",\n",
    "            \"04_exploratory_data_analysis\",\n",
    "            \"05_model_training_and_evaluation\",\n",
    "            \"06_results_and_interpretation\"\n",
    "        ],\n",
    "        \"folders_created\": [\"data\", \"models\", \"plots\", \"reports\"],\n",
    "        \"tools_used\": [\n",
    "            \"Python 3.9\", \"Jupyter Notebook\", \"VS Code\", \"GitHub\", \"Streamlit\"\n",
    "        ]\n",
    "    }\n",
    ")\n"
   ]
  },
  {
   "cell_type": "markdown",
   "id": "9f39c3bc-ff08-4b29-bbc5-880591ad63f6",
   "metadata": {},
   "source": [
    "------------------------"
   ]
  }
 ],
 "metadata": {
  "kernelspec": {
   "display_name": "Python [conda env:base] *",
   "language": "python",
   "name": "conda-base-py"
  },
  "language_info": {
   "codemirror_mode": {
    "name": "ipython",
    "version": 3
   },
   "file_extension": ".py",
   "mimetype": "text/x-python",
   "name": "python",
   "nbconvert_exporter": "python",
   "pygments_lexer": "ipython3",
   "version": "3.12.2"
  }
 },
 "nbformat": 4,
 "nbformat_minor": 5
}
