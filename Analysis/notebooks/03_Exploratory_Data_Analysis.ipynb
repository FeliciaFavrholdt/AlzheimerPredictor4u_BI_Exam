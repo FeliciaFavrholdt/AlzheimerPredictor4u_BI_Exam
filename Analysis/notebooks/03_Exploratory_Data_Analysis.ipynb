{
 "cells": [
  {
   "cell_type": "markdown",
   "id": "bb90f2d9-bfb8-415f-bcba-72e9eda3f867",
   "metadata": {},
   "source": [
    "# Notebook 03 - Exploratory Data Analysis (EDA)"
   ]
  },
  {
   "cell_type": "markdown",
   "id": "33738ed6-0bd1-4117-b949-1946bf458eb3",
   "metadata": {},
   "source": [
    "In this notebook, we will explore the cleaned dataset that we prepared earlier in Notebook 2 (02_Data_Loading_And_Preprocessing.ipynb). The dataset contains information about patients, including their age, gender, cognitive test scores, health status, and lifestyle habits.\n",
    "Our goal is to understand how these different features relate to the diagnosis of Alzheimer’s disease. We will look at distributions, compare groups, and study relationships between variables to find out which features are most useful for predicting the risk of Alzheimer’s.\n"
   ]
  },
  {
   "cell_type": "markdown",
   "id": "4d696824-9fa0-4e9f-9d77-19481886efc6",
   "metadata": {},
   "source": [
    "This step is important because it helps us decide which data to use in the machine learning model that we will build later in Notebook 4 (04_Model_Training_and_Evaluation). It also supports our overall project goal of using Business Intelligence and AI to help doctors identify people who might be at risk earlier."
   ]
  },
  {
   "cell_type": "markdown",
   "id": "b3bc9d70-5bff-4a24-a2fc-880a4f9bb0e6",
   "metadata": {},
   "source": [
    "## Research Questions"
   ]
  },
  {
   "cell_type": "markdown",
   "id": "e9d3556f-f0f3-4dee-b1e4-5d713ea6132d",
   "metadata": {},
   "source": [
    "In this notebook, we will look into some of the main research questions from our project, using data analysis to explore and better understand them:\n",
    "\n",
    "1. Can we predict the risk of Alzheimer's disease based on demographic and lifestyle factors such as age, gender, physical activity, and diet?\n",
    "- We will look for clear patterns that separate patients with Alzheimer’s from those without.\n",
    "- We will check if features like age, MMSE score, or physical activity are linked to diagnosis outcomes."
   ]
  },
  {
   "cell_type": "markdown",
   "id": "e0f11e3f-050e-4e45-b42a-5468836af841",
   "metadata": {},
   "source": [
    "\n",
    "2. Which health and lifestyle features are most predictive of an Alzheimer’s diagnosis?\n",
    "- We will explore which features show strong differences between groups and are good candidates for use in a prediction model.\n",
    "\n"
   ]
  },
  {
   "cell_type": "markdown",
   "id": "ae6deb9d-3433-4744-a96f-f2600320ddfc",
   "metadata": {},
   "source": [
    "## Set up Environment"
   ]
  },
  {
   "cell_type": "code",
   "execution_count": 67,
   "id": "57be3679-3b56-4ee7-a8d8-6bb078476806",
   "metadata": {},
   "outputs": [
    {
     "name": "stdout",
     "output_type": "stream",
     "text": [
      "Environment setup complete.\n"
     ]
    }
   ],
   "source": [
    "# Ensure parent directory is in the path so \"utils\" can be imported\n",
    "import sys\n",
    "sys.path.append(\"..\")\n",
    "\n",
    "# Imports and initialization\n",
    "from utils.setup_notebook import init_environment, load_csv, quick_overview\n",
    "from utils.save_tools import save_plot, save_notebook_and_summary\n",
    "\n",
    "import seaborn as sns\n",
    "import matplotlib.pyplot as plt\n",
    "import pandas as pd\n",
    "import numpy as np\n",
    "from IPython.display import display\n",
    "\n",
    "# Initialize folders and styles\n",
    "init_environment()"
   ]
  },
  {
   "cell_type": "markdown",
   "id": "33371e67-c4e6-4801-8bf3-dd6396f8fa45",
   "metadata": {},
   "source": [
    "## Load and Preview Data"
   ]
  },
  {
   "cell_type": "code",
   "execution_count": 70,
   "id": "2f2c98bf-d791-4722-91af-3dd0b2213588",
   "metadata": {},
   "outputs": [
    {
     "name": "stdout",
     "output_type": "stream",
     "text": [
      "Loaded data from ../data/alzheimers_clean.csv with shape (2149, 33)\n",
      "----- Dataset Shape -----\n",
      "Rows: 2149, Columns: 33\n",
      "\n",
      "----- Data Types and Non-Null Counts -----\n",
      "<class 'pandas.core.frame.DataFrame'>\n",
      "RangeIndex: 2149 entries, 0 to 2148\n",
      "Columns: 33 entries, Age to Diagnosis\n",
      "dtypes: float64(12), int64(21)\n",
      "memory usage: 554.2 KB\n"
     ]
    },
    {
     "data": {
      "text/plain": [
       "None"
      ]
     },
     "metadata": {},
     "output_type": "display_data"
    },
    {
     "name": "stdout",
     "output_type": "stream",
     "text": [
      "\n",
      "----- Statistical Summary -----\n",
      "This summary includes counts, mean, standard deviation, min, max, and percentiles for numeric and categorical columns.\n",
      "\n"
     ]
    },
    {
     "data": {
      "text/html": [
       "<div>\n",
       "<style scoped>\n",
       "    .dataframe tbody tr th:only-of-type {\n",
       "        vertical-align: middle;\n",
       "    }\n",
       "\n",
       "    .dataframe tbody tr th {\n",
       "        vertical-align: top;\n",
       "    }\n",
       "\n",
       "    .dataframe thead th {\n",
       "        text-align: right;\n",
       "    }\n",
       "</style>\n",
       "<table border=\"1\" class=\"dataframe\">\n",
       "  <thead>\n",
       "    <tr style=\"text-align: right;\">\n",
       "      <th></th>\n",
       "      <th>Age</th>\n",
       "      <th>Gender</th>\n",
       "      <th>Ethnicity</th>\n",
       "      <th>EducationLevel</th>\n",
       "      <th>BMI</th>\n",
       "      <th>Smoking</th>\n",
       "      <th>AlcoholConsumption</th>\n",
       "      <th>PhysicalActivity</th>\n",
       "      <th>DietQuality</th>\n",
       "      <th>SleepQuality</th>\n",
       "      <th>FamilyHistoryAlzheimers</th>\n",
       "      <th>CardiovascularDisease</th>\n",
       "      <th>Diabetes</th>\n",
       "      <th>Depression</th>\n",
       "      <th>HeadInjury</th>\n",
       "      <th>Hypertension</th>\n",
       "      <th>SystolicBP</th>\n",
       "      <th>DiastolicBP</th>\n",
       "      <th>CholesterolTotal</th>\n",
       "      <th>CholesterolLDL</th>\n",
       "      <th>CholesterolHDL</th>\n",
       "      <th>CholesterolTriglycerides</th>\n",
       "      <th>MMSE</th>\n",
       "      <th>FunctionalAssessment</th>\n",
       "      <th>MemoryComplaints</th>\n",
       "      <th>BehavioralProblems</th>\n",
       "      <th>ADL</th>\n",
       "      <th>Confusion</th>\n",
       "      <th>Disorientation</th>\n",
       "      <th>PersonalityChanges</th>\n",
       "      <th>DifficultyCompletingTasks</th>\n",
       "      <th>Forgetfulness</th>\n",
       "      <th>Diagnosis</th>\n",
       "    </tr>\n",
       "  </thead>\n",
       "  <tbody>\n",
       "    <tr>\n",
       "      <th>count</th>\n",
       "      <td>2149.000000</td>\n",
       "      <td>2149.000000</td>\n",
       "      <td>2149.000000</td>\n",
       "      <td>2149.000000</td>\n",
       "      <td>2149.000000</td>\n",
       "      <td>2149.000000</td>\n",
       "      <td>2149.000000</td>\n",
       "      <td>2149.000000</td>\n",
       "      <td>2149.000000</td>\n",
       "      <td>2149.000000</td>\n",
       "      <td>2149.000000</td>\n",
       "      <td>2149.000000</td>\n",
       "      <td>2149.000000</td>\n",
       "      <td>2149.000000</td>\n",
       "      <td>2149.000000</td>\n",
       "      <td>2149.000000</td>\n",
       "      <td>2149.000000</td>\n",
       "      <td>2149.000000</td>\n",
       "      <td>2149.000000</td>\n",
       "      <td>2149.000000</td>\n",
       "      <td>2149.000000</td>\n",
       "      <td>2149.000000</td>\n",
       "      <td>2149.000000</td>\n",
       "      <td>2149.000000</td>\n",
       "      <td>2149.000000</td>\n",
       "      <td>2149.000000</td>\n",
       "      <td>2149.000000</td>\n",
       "      <td>2149.000000</td>\n",
       "      <td>2149.000000</td>\n",
       "      <td>2149.000000</td>\n",
       "      <td>2149.000000</td>\n",
       "      <td>2149.000000</td>\n",
       "      <td>2149.000000</td>\n",
       "    </tr>\n",
       "    <tr>\n",
       "      <th>mean</th>\n",
       "      <td>74.908795</td>\n",
       "      <td>0.506282</td>\n",
       "      <td>0.697534</td>\n",
       "      <td>1.286645</td>\n",
       "      <td>27.655697</td>\n",
       "      <td>0.288506</td>\n",
       "      <td>10.039442</td>\n",
       "      <td>4.920202</td>\n",
       "      <td>4.993138</td>\n",
       "      <td>7.051081</td>\n",
       "      <td>0.252210</td>\n",
       "      <td>0.144253</td>\n",
       "      <td>0.150768</td>\n",
       "      <td>0.200558</td>\n",
       "      <td>0.092601</td>\n",
       "      <td>0.148906</td>\n",
       "      <td>134.264774</td>\n",
       "      <td>89.847836</td>\n",
       "      <td>225.197519</td>\n",
       "      <td>124.335944</td>\n",
       "      <td>59.463533</td>\n",
       "      <td>228.281496</td>\n",
       "      <td>14.755132</td>\n",
       "      <td>5.080055</td>\n",
       "      <td>0.208004</td>\n",
       "      <td>0.156817</td>\n",
       "      <td>4.982958</td>\n",
       "      <td>0.205212</td>\n",
       "      <td>0.158213</td>\n",
       "      <td>0.150768</td>\n",
       "      <td>0.158678</td>\n",
       "      <td>0.301536</td>\n",
       "      <td>0.353653</td>\n",
       "    </tr>\n",
       "    <tr>\n",
       "      <th>std</th>\n",
       "      <td>8.990221</td>\n",
       "      <td>0.500077</td>\n",
       "      <td>0.996128</td>\n",
       "      <td>0.904527</td>\n",
       "      <td>7.217438</td>\n",
       "      <td>0.453173</td>\n",
       "      <td>5.757910</td>\n",
       "      <td>2.857191</td>\n",
       "      <td>2.909055</td>\n",
       "      <td>1.763573</td>\n",
       "      <td>0.434382</td>\n",
       "      <td>0.351428</td>\n",
       "      <td>0.357906</td>\n",
       "      <td>0.400511</td>\n",
       "      <td>0.289940</td>\n",
       "      <td>0.356079</td>\n",
       "      <td>25.949352</td>\n",
       "      <td>17.592496</td>\n",
       "      <td>42.542233</td>\n",
       "      <td>43.366584</td>\n",
       "      <td>23.139174</td>\n",
       "      <td>101.986721</td>\n",
       "      <td>8.613151</td>\n",
       "      <td>2.892743</td>\n",
       "      <td>0.405974</td>\n",
       "      <td>0.363713</td>\n",
       "      <td>2.949775</td>\n",
       "      <td>0.403950</td>\n",
       "      <td>0.365026</td>\n",
       "      <td>0.357906</td>\n",
       "      <td>0.365461</td>\n",
       "      <td>0.459032</td>\n",
       "      <td>0.478214</td>\n",
       "    </tr>\n",
       "    <tr>\n",
       "      <th>min</th>\n",
       "      <td>60.000000</td>\n",
       "      <td>0.000000</td>\n",
       "      <td>0.000000</td>\n",
       "      <td>0.000000</td>\n",
       "      <td>15.008851</td>\n",
       "      <td>0.000000</td>\n",
       "      <td>0.002003</td>\n",
       "      <td>0.003616</td>\n",
       "      <td>0.009385</td>\n",
       "      <td>4.002629</td>\n",
       "      <td>0.000000</td>\n",
       "      <td>0.000000</td>\n",
       "      <td>0.000000</td>\n",
       "      <td>0.000000</td>\n",
       "      <td>0.000000</td>\n",
       "      <td>0.000000</td>\n",
       "      <td>90.000000</td>\n",
       "      <td>60.000000</td>\n",
       "      <td>150.093316</td>\n",
       "      <td>50.230707</td>\n",
       "      <td>20.003434</td>\n",
       "      <td>50.407194</td>\n",
       "      <td>0.005312</td>\n",
       "      <td>0.000460</td>\n",
       "      <td>0.000000</td>\n",
       "      <td>0.000000</td>\n",
       "      <td>0.001288</td>\n",
       "      <td>0.000000</td>\n",
       "      <td>0.000000</td>\n",
       "      <td>0.000000</td>\n",
       "      <td>0.000000</td>\n",
       "      <td>0.000000</td>\n",
       "      <td>0.000000</td>\n",
       "    </tr>\n",
       "    <tr>\n",
       "      <th>25%</th>\n",
       "      <td>67.000000</td>\n",
       "      <td>0.000000</td>\n",
       "      <td>0.000000</td>\n",
       "      <td>1.000000</td>\n",
       "      <td>21.611408</td>\n",
       "      <td>0.000000</td>\n",
       "      <td>5.139810</td>\n",
       "      <td>2.570626</td>\n",
       "      <td>2.458455</td>\n",
       "      <td>5.482997</td>\n",
       "      <td>0.000000</td>\n",
       "      <td>0.000000</td>\n",
       "      <td>0.000000</td>\n",
       "      <td>0.000000</td>\n",
       "      <td>0.000000</td>\n",
       "      <td>0.000000</td>\n",
       "      <td>112.000000</td>\n",
       "      <td>74.000000</td>\n",
       "      <td>190.252963</td>\n",
       "      <td>87.195798</td>\n",
       "      <td>39.095698</td>\n",
       "      <td>137.583222</td>\n",
       "      <td>7.167602</td>\n",
       "      <td>2.566281</td>\n",
       "      <td>0.000000</td>\n",
       "      <td>0.000000</td>\n",
       "      <td>2.342836</td>\n",
       "      <td>0.000000</td>\n",
       "      <td>0.000000</td>\n",
       "      <td>0.000000</td>\n",
       "      <td>0.000000</td>\n",
       "      <td>0.000000</td>\n",
       "      <td>0.000000</td>\n",
       "    </tr>\n",
       "    <tr>\n",
       "      <th>50%</th>\n",
       "      <td>75.000000</td>\n",
       "      <td>1.000000</td>\n",
       "      <td>0.000000</td>\n",
       "      <td>1.000000</td>\n",
       "      <td>27.823924</td>\n",
       "      <td>0.000000</td>\n",
       "      <td>9.934412</td>\n",
       "      <td>4.766424</td>\n",
       "      <td>5.076087</td>\n",
       "      <td>7.115646</td>\n",
       "      <td>0.000000</td>\n",
       "      <td>0.000000</td>\n",
       "      <td>0.000000</td>\n",
       "      <td>0.000000</td>\n",
       "      <td>0.000000</td>\n",
       "      <td>0.000000</td>\n",
       "      <td>134.000000</td>\n",
       "      <td>91.000000</td>\n",
       "      <td>225.086430</td>\n",
       "      <td>123.342593</td>\n",
       "      <td>59.768237</td>\n",
       "      <td>230.301983</td>\n",
       "      <td>14.441660</td>\n",
       "      <td>5.094439</td>\n",
       "      <td>0.000000</td>\n",
       "      <td>0.000000</td>\n",
       "      <td>5.038973</td>\n",
       "      <td>0.000000</td>\n",
       "      <td>0.000000</td>\n",
       "      <td>0.000000</td>\n",
       "      <td>0.000000</td>\n",
       "      <td>0.000000</td>\n",
       "      <td>0.000000</td>\n",
       "    </tr>\n",
       "    <tr>\n",
       "      <th>75%</th>\n",
       "      <td>83.000000</td>\n",
       "      <td>1.000000</td>\n",
       "      <td>1.000000</td>\n",
       "      <td>2.000000</td>\n",
       "      <td>33.869778</td>\n",
       "      <td>1.000000</td>\n",
       "      <td>15.157931</td>\n",
       "      <td>7.427899</td>\n",
       "      <td>7.558625</td>\n",
       "      <td>8.562521</td>\n",
       "      <td>1.000000</td>\n",
       "      <td>0.000000</td>\n",
       "      <td>0.000000</td>\n",
       "      <td>0.000000</td>\n",
       "      <td>0.000000</td>\n",
       "      <td>0.000000</td>\n",
       "      <td>157.000000</td>\n",
       "      <td>105.000000</td>\n",
       "      <td>262.031657</td>\n",
       "      <td>161.733733</td>\n",
       "      <td>78.939050</td>\n",
       "      <td>314.839046</td>\n",
       "      <td>22.161028</td>\n",
       "      <td>7.546981</td>\n",
       "      <td>0.000000</td>\n",
       "      <td>0.000000</td>\n",
       "      <td>7.581490</td>\n",
       "      <td>0.000000</td>\n",
       "      <td>0.000000</td>\n",
       "      <td>0.000000</td>\n",
       "      <td>0.000000</td>\n",
       "      <td>1.000000</td>\n",
       "      <td>1.000000</td>\n",
       "    </tr>\n",
       "    <tr>\n",
       "      <th>max</th>\n",
       "      <td>90.000000</td>\n",
       "      <td>1.000000</td>\n",
       "      <td>3.000000</td>\n",
       "      <td>3.000000</td>\n",
       "      <td>39.992767</td>\n",
       "      <td>1.000000</td>\n",
       "      <td>19.989293</td>\n",
       "      <td>9.987429</td>\n",
       "      <td>9.998346</td>\n",
       "      <td>9.999840</td>\n",
       "      <td>1.000000</td>\n",
       "      <td>1.000000</td>\n",
       "      <td>1.000000</td>\n",
       "      <td>1.000000</td>\n",
       "      <td>1.000000</td>\n",
       "      <td>1.000000</td>\n",
       "      <td>179.000000</td>\n",
       "      <td>119.000000</td>\n",
       "      <td>299.993352</td>\n",
       "      <td>199.965665</td>\n",
       "      <td>99.980324</td>\n",
       "      <td>399.941862</td>\n",
       "      <td>29.991381</td>\n",
       "      <td>9.996467</td>\n",
       "      <td>1.000000</td>\n",
       "      <td>1.000000</td>\n",
       "      <td>9.999747</td>\n",
       "      <td>1.000000</td>\n",
       "      <td>1.000000</td>\n",
       "      <td>1.000000</td>\n",
       "      <td>1.000000</td>\n",
       "      <td>1.000000</td>\n",
       "      <td>1.000000</td>\n",
       "    </tr>\n",
       "  </tbody>\n",
       "</table>\n",
       "</div>"
      ],
      "text/plain": [
       "               Age       Gender    Ethnicity  EducationLevel          BMI  \\\n",
       "count  2149.000000  2149.000000  2149.000000     2149.000000  2149.000000   \n",
       "mean     74.908795     0.506282     0.697534        1.286645    27.655697   \n",
       "std       8.990221     0.500077     0.996128        0.904527     7.217438   \n",
       "min      60.000000     0.000000     0.000000        0.000000    15.008851   \n",
       "25%      67.000000     0.000000     0.000000        1.000000    21.611408   \n",
       "50%      75.000000     1.000000     0.000000        1.000000    27.823924   \n",
       "75%      83.000000     1.000000     1.000000        2.000000    33.869778   \n",
       "max      90.000000     1.000000     3.000000        3.000000    39.992767   \n",
       "\n",
       "           Smoking  AlcoholConsumption  PhysicalActivity  DietQuality  \\\n",
       "count  2149.000000         2149.000000       2149.000000  2149.000000   \n",
       "mean      0.288506           10.039442          4.920202     4.993138   \n",
       "std       0.453173            5.757910          2.857191     2.909055   \n",
       "min       0.000000            0.002003          0.003616     0.009385   \n",
       "25%       0.000000            5.139810          2.570626     2.458455   \n",
       "50%       0.000000            9.934412          4.766424     5.076087   \n",
       "75%       1.000000           15.157931          7.427899     7.558625   \n",
       "max       1.000000           19.989293          9.987429     9.998346   \n",
       "\n",
       "       SleepQuality  FamilyHistoryAlzheimers  CardiovascularDisease  \\\n",
       "count   2149.000000              2149.000000            2149.000000   \n",
       "mean       7.051081                 0.252210               0.144253   \n",
       "std        1.763573                 0.434382               0.351428   \n",
       "min        4.002629                 0.000000               0.000000   \n",
       "25%        5.482997                 0.000000               0.000000   \n",
       "50%        7.115646                 0.000000               0.000000   \n",
       "75%        8.562521                 1.000000               0.000000   \n",
       "max        9.999840                 1.000000               1.000000   \n",
       "\n",
       "          Diabetes   Depression   HeadInjury  Hypertension   SystolicBP  \\\n",
       "count  2149.000000  2149.000000  2149.000000   2149.000000  2149.000000   \n",
       "mean      0.150768     0.200558     0.092601      0.148906   134.264774   \n",
       "std       0.357906     0.400511     0.289940      0.356079    25.949352   \n",
       "min       0.000000     0.000000     0.000000      0.000000    90.000000   \n",
       "25%       0.000000     0.000000     0.000000      0.000000   112.000000   \n",
       "50%       0.000000     0.000000     0.000000      0.000000   134.000000   \n",
       "75%       0.000000     0.000000     0.000000      0.000000   157.000000   \n",
       "max       1.000000     1.000000     1.000000      1.000000   179.000000   \n",
       "\n",
       "       DiastolicBP  CholesterolTotal  CholesterolLDL  CholesterolHDL  \\\n",
       "count  2149.000000       2149.000000     2149.000000     2149.000000   \n",
       "mean     89.847836        225.197519      124.335944       59.463533   \n",
       "std      17.592496         42.542233       43.366584       23.139174   \n",
       "min      60.000000        150.093316       50.230707       20.003434   \n",
       "25%      74.000000        190.252963       87.195798       39.095698   \n",
       "50%      91.000000        225.086430      123.342593       59.768237   \n",
       "75%     105.000000        262.031657      161.733733       78.939050   \n",
       "max     119.000000        299.993352      199.965665       99.980324   \n",
       "\n",
       "       CholesterolTriglycerides         MMSE  FunctionalAssessment  \\\n",
       "count               2149.000000  2149.000000           2149.000000   \n",
       "mean                 228.281496    14.755132              5.080055   \n",
       "std                  101.986721     8.613151              2.892743   \n",
       "min                   50.407194     0.005312              0.000460   \n",
       "25%                  137.583222     7.167602              2.566281   \n",
       "50%                  230.301983    14.441660              5.094439   \n",
       "75%                  314.839046    22.161028              7.546981   \n",
       "max                  399.941862    29.991381              9.996467   \n",
       "\n",
       "       MemoryComplaints  BehavioralProblems          ADL    Confusion  \\\n",
       "count       2149.000000         2149.000000  2149.000000  2149.000000   \n",
       "mean           0.208004            0.156817     4.982958     0.205212   \n",
       "std            0.405974            0.363713     2.949775     0.403950   \n",
       "min            0.000000            0.000000     0.001288     0.000000   \n",
       "25%            0.000000            0.000000     2.342836     0.000000   \n",
       "50%            0.000000            0.000000     5.038973     0.000000   \n",
       "75%            0.000000            0.000000     7.581490     0.000000   \n",
       "max            1.000000            1.000000     9.999747     1.000000   \n",
       "\n",
       "       Disorientation  PersonalityChanges  DifficultyCompletingTasks  \\\n",
       "count     2149.000000         2149.000000                2149.000000   \n",
       "mean         0.158213            0.150768                   0.158678   \n",
       "std          0.365026            0.357906                   0.365461   \n",
       "min          0.000000            0.000000                   0.000000   \n",
       "25%          0.000000            0.000000                   0.000000   \n",
       "50%          0.000000            0.000000                   0.000000   \n",
       "75%          0.000000            0.000000                   0.000000   \n",
       "max          1.000000            1.000000                   1.000000   \n",
       "\n",
       "       Forgetfulness    Diagnosis  \n",
       "count    2149.000000  2149.000000  \n",
       "mean        0.301536     0.353653  \n",
       "std         0.459032     0.478214  \n",
       "min         0.000000     0.000000  \n",
       "25%         0.000000     0.000000  \n",
       "50%         0.000000     0.000000  \n",
       "75%         1.000000     1.000000  \n",
       "max         1.000000     1.000000  "
      ]
     },
     "metadata": {},
     "output_type": "display_data"
    },
    {
     "name": "stdout",
     "output_type": "stream",
     "text": [
      "\n",
      "----- First 5 Rows -----\n"
     ]
    },
    {
     "data": {
      "text/html": [
       "<div>\n",
       "<style scoped>\n",
       "    .dataframe tbody tr th:only-of-type {\n",
       "        vertical-align: middle;\n",
       "    }\n",
       "\n",
       "    .dataframe tbody tr th {\n",
       "        vertical-align: top;\n",
       "    }\n",
       "\n",
       "    .dataframe thead th {\n",
       "        text-align: right;\n",
       "    }\n",
       "</style>\n",
       "<table border=\"1\" class=\"dataframe\">\n",
       "  <thead>\n",
       "    <tr style=\"text-align: right;\">\n",
       "      <th></th>\n",
       "      <th>Age</th>\n",
       "      <th>Gender</th>\n",
       "      <th>Ethnicity</th>\n",
       "      <th>EducationLevel</th>\n",
       "      <th>BMI</th>\n",
       "      <th>Smoking</th>\n",
       "      <th>AlcoholConsumption</th>\n",
       "      <th>PhysicalActivity</th>\n",
       "      <th>DietQuality</th>\n",
       "      <th>SleepQuality</th>\n",
       "      <th>FamilyHistoryAlzheimers</th>\n",
       "      <th>CardiovascularDisease</th>\n",
       "      <th>Diabetes</th>\n",
       "      <th>Depression</th>\n",
       "      <th>HeadInjury</th>\n",
       "      <th>Hypertension</th>\n",
       "      <th>SystolicBP</th>\n",
       "      <th>DiastolicBP</th>\n",
       "      <th>CholesterolTotal</th>\n",
       "      <th>CholesterolLDL</th>\n",
       "      <th>CholesterolHDL</th>\n",
       "      <th>CholesterolTriglycerides</th>\n",
       "      <th>MMSE</th>\n",
       "      <th>FunctionalAssessment</th>\n",
       "      <th>MemoryComplaints</th>\n",
       "      <th>BehavioralProblems</th>\n",
       "      <th>ADL</th>\n",
       "      <th>Confusion</th>\n",
       "      <th>Disorientation</th>\n",
       "      <th>PersonalityChanges</th>\n",
       "      <th>DifficultyCompletingTasks</th>\n",
       "      <th>Forgetfulness</th>\n",
       "      <th>Diagnosis</th>\n",
       "    </tr>\n",
       "  </thead>\n",
       "  <tbody>\n",
       "    <tr>\n",
       "      <th>0</th>\n",
       "      <td>73</td>\n",
       "      <td>0</td>\n",
       "      <td>0</td>\n",
       "      <td>2</td>\n",
       "      <td>22.927749</td>\n",
       "      <td>0</td>\n",
       "      <td>13.297218</td>\n",
       "      <td>6.327112</td>\n",
       "      <td>1.347214</td>\n",
       "      <td>9.025679</td>\n",
       "      <td>0</td>\n",
       "      <td>0</td>\n",
       "      <td>1</td>\n",
       "      <td>1</td>\n",
       "      <td>0</td>\n",
       "      <td>0</td>\n",
       "      <td>142</td>\n",
       "      <td>72</td>\n",
       "      <td>242.366840</td>\n",
       "      <td>56.150897</td>\n",
       "      <td>33.682563</td>\n",
       "      <td>162.189143</td>\n",
       "      <td>21.463532</td>\n",
       "      <td>6.518877</td>\n",
       "      <td>0</td>\n",
       "      <td>0</td>\n",
       "      <td>1.725883</td>\n",
       "      <td>0</td>\n",
       "      <td>0</td>\n",
       "      <td>0</td>\n",
       "      <td>1</td>\n",
       "      <td>0</td>\n",
       "      <td>0</td>\n",
       "    </tr>\n",
       "    <tr>\n",
       "      <th>1</th>\n",
       "      <td>89</td>\n",
       "      <td>0</td>\n",
       "      <td>0</td>\n",
       "      <td>0</td>\n",
       "      <td>26.827681</td>\n",
       "      <td>0</td>\n",
       "      <td>4.542524</td>\n",
       "      <td>7.619885</td>\n",
       "      <td>0.518767</td>\n",
       "      <td>7.151293</td>\n",
       "      <td>0</td>\n",
       "      <td>0</td>\n",
       "      <td>0</td>\n",
       "      <td>0</td>\n",
       "      <td>0</td>\n",
       "      <td>0</td>\n",
       "      <td>115</td>\n",
       "      <td>64</td>\n",
       "      <td>231.162595</td>\n",
       "      <td>193.407996</td>\n",
       "      <td>79.028477</td>\n",
       "      <td>294.630909</td>\n",
       "      <td>20.613267</td>\n",
       "      <td>7.118696</td>\n",
       "      <td>0</td>\n",
       "      <td>0</td>\n",
       "      <td>2.592424</td>\n",
       "      <td>0</td>\n",
       "      <td>0</td>\n",
       "      <td>0</td>\n",
       "      <td>0</td>\n",
       "      <td>1</td>\n",
       "      <td>0</td>\n",
       "    </tr>\n",
       "    <tr>\n",
       "      <th>2</th>\n",
       "      <td>73</td>\n",
       "      <td>0</td>\n",
       "      <td>3</td>\n",
       "      <td>1</td>\n",
       "      <td>17.795882</td>\n",
       "      <td>0</td>\n",
       "      <td>19.555085</td>\n",
       "      <td>7.844988</td>\n",
       "      <td>1.826335</td>\n",
       "      <td>9.673574</td>\n",
       "      <td>1</td>\n",
       "      <td>0</td>\n",
       "      <td>0</td>\n",
       "      <td>0</td>\n",
       "      <td>0</td>\n",
       "      <td>0</td>\n",
       "      <td>99</td>\n",
       "      <td>116</td>\n",
       "      <td>284.181858</td>\n",
       "      <td>153.322762</td>\n",
       "      <td>69.772292</td>\n",
       "      <td>83.638324</td>\n",
       "      <td>7.356249</td>\n",
       "      <td>5.895077</td>\n",
       "      <td>0</td>\n",
       "      <td>0</td>\n",
       "      <td>7.119548</td>\n",
       "      <td>0</td>\n",
       "      <td>1</td>\n",
       "      <td>0</td>\n",
       "      <td>1</td>\n",
       "      <td>0</td>\n",
       "      <td>0</td>\n",
       "    </tr>\n",
       "    <tr>\n",
       "      <th>3</th>\n",
       "      <td>74</td>\n",
       "      <td>1</td>\n",
       "      <td>0</td>\n",
       "      <td>1</td>\n",
       "      <td>33.800817</td>\n",
       "      <td>1</td>\n",
       "      <td>12.209266</td>\n",
       "      <td>8.428001</td>\n",
       "      <td>7.435604</td>\n",
       "      <td>8.392554</td>\n",
       "      <td>0</td>\n",
       "      <td>0</td>\n",
       "      <td>0</td>\n",
       "      <td>0</td>\n",
       "      <td>0</td>\n",
       "      <td>0</td>\n",
       "      <td>118</td>\n",
       "      <td>115</td>\n",
       "      <td>159.582240</td>\n",
       "      <td>65.366637</td>\n",
       "      <td>68.457491</td>\n",
       "      <td>277.577358</td>\n",
       "      <td>13.991127</td>\n",
       "      <td>8.965106</td>\n",
       "      <td>0</td>\n",
       "      <td>1</td>\n",
       "      <td>6.481226</td>\n",
       "      <td>0</td>\n",
       "      <td>0</td>\n",
       "      <td>0</td>\n",
       "      <td>0</td>\n",
       "      <td>0</td>\n",
       "      <td>0</td>\n",
       "    </tr>\n",
       "    <tr>\n",
       "      <th>4</th>\n",
       "      <td>89</td>\n",
       "      <td>0</td>\n",
       "      <td>0</td>\n",
       "      <td>0</td>\n",
       "      <td>20.716974</td>\n",
       "      <td>0</td>\n",
       "      <td>18.454356</td>\n",
       "      <td>6.310461</td>\n",
       "      <td>0.795498</td>\n",
       "      <td>5.597238</td>\n",
       "      <td>0</td>\n",
       "      <td>0</td>\n",
       "      <td>0</td>\n",
       "      <td>0</td>\n",
       "      <td>0</td>\n",
       "      <td>0</td>\n",
       "      <td>94</td>\n",
       "      <td>117</td>\n",
       "      <td>237.602184</td>\n",
       "      <td>92.869700</td>\n",
       "      <td>56.874305</td>\n",
       "      <td>291.198780</td>\n",
       "      <td>13.517609</td>\n",
       "      <td>6.045039</td>\n",
       "      <td>0</td>\n",
       "      <td>0</td>\n",
       "      <td>0.014691</td>\n",
       "      <td>0</td>\n",
       "      <td>0</td>\n",
       "      <td>1</td>\n",
       "      <td>1</td>\n",
       "      <td>0</td>\n",
       "      <td>0</td>\n",
       "    </tr>\n",
       "  </tbody>\n",
       "</table>\n",
       "</div>"
      ],
      "text/plain": [
       "   Age  Gender  Ethnicity  EducationLevel        BMI  Smoking  \\\n",
       "0   73       0          0               2  22.927749        0   \n",
       "1   89       0          0               0  26.827681        0   \n",
       "2   73       0          3               1  17.795882        0   \n",
       "3   74       1          0               1  33.800817        1   \n",
       "4   89       0          0               0  20.716974        0   \n",
       "\n",
       "   AlcoholConsumption  PhysicalActivity  DietQuality  SleepQuality  \\\n",
       "0           13.297218          6.327112     1.347214      9.025679   \n",
       "1            4.542524          7.619885     0.518767      7.151293   \n",
       "2           19.555085          7.844988     1.826335      9.673574   \n",
       "3           12.209266          8.428001     7.435604      8.392554   \n",
       "4           18.454356          6.310461     0.795498      5.597238   \n",
       "\n",
       "   FamilyHistoryAlzheimers  CardiovascularDisease  Diabetes  Depression  \\\n",
       "0                        0                      0         1           1   \n",
       "1                        0                      0         0           0   \n",
       "2                        1                      0         0           0   \n",
       "3                        0                      0         0           0   \n",
       "4                        0                      0         0           0   \n",
       "\n",
       "   HeadInjury  Hypertension  SystolicBP  DiastolicBP  CholesterolTotal  \\\n",
       "0           0             0         142           72        242.366840   \n",
       "1           0             0         115           64        231.162595   \n",
       "2           0             0          99          116        284.181858   \n",
       "3           0             0         118          115        159.582240   \n",
       "4           0             0          94          117        237.602184   \n",
       "\n",
       "   CholesterolLDL  CholesterolHDL  CholesterolTriglycerides       MMSE  \\\n",
       "0       56.150897       33.682563                162.189143  21.463532   \n",
       "1      193.407996       79.028477                294.630909  20.613267   \n",
       "2      153.322762       69.772292                 83.638324   7.356249   \n",
       "3       65.366637       68.457491                277.577358  13.991127   \n",
       "4       92.869700       56.874305                291.198780  13.517609   \n",
       "\n",
       "   FunctionalAssessment  MemoryComplaints  BehavioralProblems       ADL  \\\n",
       "0              6.518877                 0                   0  1.725883   \n",
       "1              7.118696                 0                   0  2.592424   \n",
       "2              5.895077                 0                   0  7.119548   \n",
       "3              8.965106                 0                   1  6.481226   \n",
       "4              6.045039                 0                   0  0.014691   \n",
       "\n",
       "   Confusion  Disorientation  PersonalityChanges  DifficultyCompletingTasks  \\\n",
       "0          0               0                   0                          1   \n",
       "1          0               0                   0                          0   \n",
       "2          0               1                   0                          1   \n",
       "3          0               0                   0                          0   \n",
       "4          0               0                   1                          1   \n",
       "\n",
       "   Forgetfulness  Diagnosis  \n",
       "0              0          0  \n",
       "1              1          0  \n",
       "2              0          0  \n",
       "3              0          0  \n",
       "4              0          0  "
      ]
     },
     "metadata": {},
     "output_type": "display_data"
    }
   ],
   "source": [
    "# Load the cleaned Alzheimer dataset\n",
    "df = load_csv(\"../data/alzheimers_clean.csv\")\n",
    "\n",
    "# Quick structured overview\n",
    "quick_overview(df)"
   ]
  },
  {
   "cell_type": "markdown",
   "id": "5fe43cc8-351a-4792-910b-4cfc15299914",
   "metadata": {},
   "source": [
    "### Output\n",
    "The dataset contains information about each patient, including demographic details (like age and gender), clinical test scores (such as MMSE and CDR), and possibly lifestyle-related features.\n",
    "\n",
    "By running a quick overview, we can check how many rows and columns the dataset has, what types of data are included, and whether the structure looks correct. This also helps us confirm that the cleaning process in Notebook 2 was successful and that the data is ready for analysis.\n"
   ]
  },
  {
   "cell_type": "code",
   "execution_count": null,
   "id": "0886b98b-bea7-4edf-97a4-89a79dedde6c",
   "metadata": {},
   "outputs": [],
   "source": [
    "## "
   ]
  },
  {
   "cell_type": "code",
   "execution_count": null,
   "id": "5b992e08-a0e2-4298-aaa2-3e37fd11dd65",
   "metadata": {},
   "outputs": [],
   "source": []
  },
  {
   "cell_type": "code",
   "execution_count": 74,
   "id": "dc4b9fcc-25b5-44af-875f-fb445ba9cbf7",
   "metadata": {},
   "outputs": [
    {
     "name": "stdout",
     "output_type": "stream",
     "text": [
      "Diagnosis distribution:\n",
      "Diagnosis\n",
      "0    1389\n",
      "1     760\n",
      "Name: count, dtype: int64\n"
     ]
    },
    {
     "data": {
      "image/png": "[encoded data removed]",
      "text/plain": [
       "<Figure size 640x480 with 1 Axes>"
      ]
     },
     "metadata": {},
     "output_type": "display_data"
    },
    {
     "name": "stdout",
     "output_type": "stream",
     "text": [
      "Plot saved to: ../plots/Diagnosis_distribution.png\n",
      "Caption saved to: ../plots/Diagnosis_distribution.txt\n"
     ]
    }
   ],
   "source": [
    "# Define the target column\n",
    "target_column = \"Diagnosis\"\n",
    "\n",
    "# Display class counts\n",
    "print(\"Diagnosis distribution:\")\n",
    "print(df[target_column].value_counts())\n",
    "\n",
    "# Plot the distribution\n",
    "fig, ax = plt.subplots()\n",
    "sns.countplot(x=target_column, data=df, ax=ax)\n",
    "ax.set_title(f\"Target Distribution: {target_column}\")\n",
    "plt.show()\n",
    "\n",
    "# Save plot for Streamlit/app use\n",
    "save_plot(fig, f\"{target_column}_distribution.png\", caption=\"Distribution of Alzheimer’s diagnosis categories\")"
   ]
  },
  {
   "cell_type": "code",
   "execution_count": null,
   "id": "a92b2003-2f20-4ddb-95ba-db9bd84ba7c4",
   "metadata": {},
   "outputs": [],
   "source": []
  },
  {
   "cell_type": "code",
   "execution_count": null,
   "id": "edd14260-a066-4e8e-95a7-62b0b807b4d1",
   "metadata": {},
   "outputs": [],
   "source": []
  },
  {
   "cell_type": "code",
   "execution_count": null,
   "id": "1ae41b5f-c0c8-42f0-b297-844796ad031f",
   "metadata": {},
   "outputs": [],
   "source": []
  },
  {
   "cell_type": "code",
   "execution_count": null,
   "id": "709e931f-4d4b-4090-9308-bc19765d955c",
   "metadata": {},
   "outputs": [],
   "source": []
  },
  {
   "cell_type": "code",
   "execution_count": null,
   "id": "34e053d1-cc21-4572-981f-d3932eacefea",
   "metadata": {},
   "outputs": [],
   "source": []
  },
  {
   "cell_type": "code",
   "execution_count": null,
   "id": "d138132f-b36c-4052-a895-3c9d6339e2b7",
   "metadata": {},
   "outputs": [],
   "source": []
  },
  {
   "cell_type": "code",
   "execution_count": null,
   "id": "c6e74270-63d7-4147-996f-6be6e34d317e",
   "metadata": {},
   "outputs": [],
   "source": []
  },
  {
   "cell_type": "code",
   "execution_count": null,
   "id": "038ad502-2115-4629-945d-8a4c67a26e18",
   "metadata": {},
   "outputs": [],
   "source": []
  },
  {
   "cell_type": "code",
   "execution_count": null,
   "id": "e89f2581-6f0f-448e-8d62-1d231f6b6855",
   "metadata": {},
   "outputs": [],
   "source": []
  },
  {
   "cell_type": "code",
   "execution_count": null,
   "id": "b67e9df5-cc65-43d3-99b5-8be5e81bd65e",
   "metadata": {},
   "outputs": [],
   "source": []
  },
  {
   "cell_type": "code",
   "execution_count": null,
   "id": "7d611816-b5be-48b5-8ee9-78a3741434a4",
   "metadata": {},
   "outputs": [],
   "source": []
  },
  {
   "cell_type": "code",
   "execution_count": null,
   "id": "eeb14ee2-73ef-48cb-96f9-2b8a2e105729",
   "metadata": {},
   "outputs": [],
   "source": []
  },
  {
   "cell_type": "code",
   "execution_count": null,
   "id": "665a548f-683b-409c-b363-821b18b2f1c2",
   "metadata": {},
   "outputs": [],
   "source": []
  },
  {
   "cell_type": "code",
   "execution_count": null,
   "id": "94ee1047-b223-4cf1-a5c5-33629105eb9f",
   "metadata": {},
   "outputs": [],
   "source": []
  },
  {
   "cell_type": "code",
   "execution_count": null,
   "id": "0d6d1328-2ce4-4246-843e-edf6aca6d568",
   "metadata": {},
   "outputs": [],
   "source": []
  },
  {
   "cell_type": "code",
   "execution_count": 18,
   "id": "d4d433ed-9d86-493c-bc55-cf5b259c48e1",
   "metadata": {},
   "outputs": [
    {
     "name": "stdout",
     "output_type": "stream",
     "text": [
      "Numeric columns: ['Age', 'Gender', 'Ethnicity', 'EducationLevel', 'BMI', 'Smoking', 'AlcoholConsumption', 'PhysicalActivity', 'DietQuality', 'SleepQuality', 'FamilyHistoryAlzheimers', 'CardiovascularDisease', 'Diabetes', 'Depression', 'HeadInjury', 'Hypertension', 'SystolicBP', 'DiastolicBP', 'CholesterolTotal', 'CholesterolLDL', 'CholesterolHDL', 'CholesterolTriglycerides', 'MMSE', 'FunctionalAssessment', 'MemoryComplaints', 'BehavioralProblems', 'ADL', 'Confusion', 'Disorientation', 'PersonalityChanges', 'DifficultyCompletingTasks', 'Forgetfulness', 'Diagnosis']\n"
     ]
    }
   ],
   "source": [
    "# Define target variable\n",
    "target_column = \"Diagnosis\"  # Adjust if your target is different\n",
    "\n",
    "# Identify numeric columns\n",
    "numeric_cols = df.select_dtypes(include=np.number).columns.tolist()\n",
    "print(f\"Numeric columns: {numeric_cols}\")"
   ]
  },
  {
   "cell_type": "code",
   "execution_count": 20,
   "id": "03e99f57-3b4a-4fbf-91c6-ddc3a60303f2",
   "metadata": {},
   "outputs": [
    {
     "name": "stdout",
     "output_type": "stream",
     "text": [
      "Plot saved to: ../plots/Diagnosis_distribution.png\n",
      "Caption saved to: ../plots/Diagnosis_distribution.txt\n"
     ]
    },
    {
     "data": {
      "text/plain": [
       "<Figure size 640x480 with 0 Axes>"
      ]
     },
     "metadata": {},
     "output_type": "display_data"
    }
   ],
   "source": [
    "# Visualize class balance of the target\n",
    "fig, ax = plt.subplots()\n",
    "sns.countplot(x=target_column, data=df, ax=ax)\n",
    "ax.set_title(f\"Distribution of Target: {target_column}\")\n",
    "save_plot(fig, f\"{target_column}_distribution.png\", caption=\"Distribution of the target variable (Diagnosis)\")"
   ]
  },
  {
   "cell_type": "code",
   "execution_count": 22,
   "id": "a116da5d-30b9-4949-8493-11ebbb3644ef",
   "metadata": {},
   "outputs": [],
   "source": [
    "### Interpretation \n",
    "\n",
    "This plot shows the number of samples per diagnosis category. If class imbalance is observed, it should be addressed in model evaluation using stratification, balancing, or sampling."
   ]
  },
  {
   "cell_type": "code",
   "execution_count": null,
   "id": "d4969f47-1888-4c29-9978-59db17f2c557",
   "metadata": {},
   "outputs": [],
   "source": [
    "## Histograms of Numeric Features"
   ]
  },
  {
   "cell_type": "code",
   "execution_count": 31,
   "id": "ef6f38b8-7459-40e5-aeae-d5e307759cbb",
   "metadata": {},
   "outputs": [
    {
     "name": "stdout",
     "output_type": "stream",
     "text": [
      "Plot saved to: ../plots/Age_distribution.png\n",
      "Caption saved to: ../plots/Age_distribution.txt\n",
      "Plot saved to: ../plots/Gender_distribution.png\n",
      "Caption saved to: ../plots/Gender_distribution.txt\n",
      "Plot saved to: ../plots/Ethnicity_distribution.png\n",
      "Caption saved to: ../plots/Ethnicity_distribution.txt\n",
      "Plot saved to: ../plots/EducationLevel_distribution.png\n",
      "Caption saved to: ../plots/EducationLevel_distribution.txt\n",
      "Plot saved to: ../plots/BMI_distribution.png\n",
      "Caption saved to: ../plots/BMI_distribution.txt\n",
      "Plot saved to: ../plots/Smoking_distribution.png\n",
      "Caption saved to: ../plots/Smoking_distribution.txt\n",
      "Plot saved to: ../plots/AlcoholConsumption_distribution.png\n",
      "Caption saved to: ../plots/AlcoholConsumption_distribution.txt\n",
      "Plot saved to: ../plots/PhysicalActivity_distribution.png\n",
      "Caption saved to: ../plots/PhysicalActivity_distribution.txt\n",
      "Plot saved to: ../plots/DietQuality_distribution.png\n",
      "Caption saved to: ../plots/DietQuality_distribution.txt\n",
      "Plot saved to: ../plots/SleepQuality_distribution.png\n",
      "Caption saved to: ../plots/SleepQuality_distribution.txt\n",
      "Plot saved to: ../plots/FamilyHistoryAlzheimers_distribution.png\n",
      "Caption saved to: ../plots/FamilyHistoryAlzheimers_distribution.txt\n",
      "Plot saved to: ../plots/CardiovascularDisease_distribution.png\n",
      "Caption saved to: ../plots/CardiovascularDisease_distribution.txt\n",
      "Plot saved to: ../plots/Diabetes_distribution.png\n",
      "Caption saved to: ../plots/Diabetes_distribution.txt\n",
      "Plot saved to: ../plots/Depression_distribution.png\n",
      "Caption saved to: ../plots/Depression_distribution.txt\n",
      "Plot saved to: ../plots/HeadInjury_distribution.png\n",
      "Caption saved to: ../plots/HeadInjury_distribution.txt\n",
      "Plot saved to: ../plots/Hypertension_distribution.png\n",
      "Caption saved to: ../plots/Hypertension_distribution.txt\n",
      "Plot saved to: ../plots/SystolicBP_distribution.png\n",
      "Caption saved to: ../plots/SystolicBP_distribution.txt\n",
      "Plot saved to: ../plots/DiastolicBP_distribution.png\n",
      "Caption saved to: ../plots/DiastolicBP_distribution.txt\n",
      "Plot saved to: ../plots/CholesterolTotal_distribution.png\n",
      "Caption saved to: ../plots/CholesterolTotal_distribution.txt\n",
      "Plot saved to: ../plots/CholesterolLDL_distribution.png\n",
      "Caption saved to: ../plots/CholesterolLDL_distribution.txt\n"
     ]
    },
    {
     "name": "stderr",
     "output_type": "stream",
     "text": [
      "/var/folders/ct/0p5jxxp54xlcjs_q4dwkbdd80000gn/T/ipykernel_68317/2299304635.py:3: RuntimeWarning: More than 20 figures have been opened. Figures created through the pyplot interface (`matplotlib.pyplot.figure`) are retained until explicitly closed and may consume too much memory. (To control this warning, see the rcParam `figure.max_open_warning`). Consider using `matplotlib.pyplot.close()`.\n",
      "  fig, ax = plt.subplots()\n"
     ]
    },
    {
     "name": "stdout",
     "output_type": "stream",
     "text": [
      "Plot saved to: ../plots/CholesterolHDL_distribution.png\n",
      "Caption saved to: ../plots/CholesterolHDL_distribution.txt\n",
      "Plot saved to: ../plots/CholesterolTriglycerides_distribution.png\n",
      "Caption saved to: ../plots/CholesterolTriglycerides_distribution.txt\n",
      "Plot saved to: ../plots/MMSE_distribution.png\n",
      "Caption saved to: ../plots/MMSE_distribution.txt\n",
      "Plot saved to: ../plots/FunctionalAssessment_distribution.png\n",
      "Caption saved to: ../plots/FunctionalAssessment_distribution.txt\n",
      "Plot saved to: ../plots/MemoryComplaints_distribution.png\n",
      "Caption saved to: ../plots/MemoryComplaints_distribution.txt\n",
      "Plot saved to: ../plots/BehavioralProblems_distribution.png\n",
      "Caption saved to: ../plots/BehavioralProblems_distribution.txt\n",
      "Plot saved to: ../plots/ADL_distribution.png\n",
      "Caption saved to: ../plots/ADL_distribution.txt\n",
      "Plot saved to: ../plots/Confusion_distribution.png\n",
      "Caption saved to: ../plots/Confusion_distribution.txt\n",
      "Plot saved to: ../plots/Disorientation_distribution.png\n",
      "Caption saved to: ../plots/Disorientation_distribution.txt\n",
      "Plot saved to: ../plots/PersonalityChanges_distribution.png\n",
      "Caption saved to: ../plots/PersonalityChanges_distribution.txt\n",
      "Plot saved to: ../plots/DifficultyCompletingTasks_distribution.png\n",
      "Caption saved to: ../plots/DifficultyCompletingTasks_distribution.txt\n",
      "Plot saved to: ../plots/Forgetfulness_distribution.png\n",
      "Caption saved to: ../plots/Forgetfulness_distribution.txt\n",
      "Plot saved to: ../plots/Diagnosis_distribution.png\n",
      "Caption saved to: ../plots/Diagnosis_distribution.txt\n"
     ]
    },
    {
     "data": {
      "text/plain": [
       "<Figure size 640x480 with 0 Axes>"
      ]
     },
     "metadata": {},
     "output_type": "display_data"
    },
    {
     "data": {
      "text/plain": [
       "<Figure size 640x480 with 0 Axes>"
      ]
     },
     "metadata": {},
     "output_type": "display_data"
    },
    {
     "data": {
      "text/plain": [
       "<Figure size 640x480 with 0 Axes>"
      ]
     },
     "metadata": {},
     "output_type": "display_data"
    },
    {
     "data": {
      "text/plain": [
       "<Figure size 640x480 with 0 Axes>"
      ]
     },
     "metadata": {},
     "output_type": "display_data"
    },
    {
     "data": {
      "text/plain": [
       "<Figure size 640x480 with 0 Axes>"
      ]
     },
     "metadata": {},
     "output_type": "display_data"
    },
    {
     "data": {
      "text/plain": [
       "<Figure size 640x480 with 0 Axes>"
      ]
     },
     "metadata": {},
     "output_type": "display_data"
    },
    {
     "data": {
      "text/plain": [
       "<Figure size 640x480 with 0 Axes>"
      ]
     },
     "metadata": {},
     "output_type": "display_data"
    },
    {
     "data": {
      "text/plain": [
       "<Figure size 640x480 with 0 Axes>"
      ]
     },
     "metadata": {},
     "output_type": "display_data"
    },
    {
     "data": {
      "text/plain": [
       "<Figure size 640x480 with 0 Axes>"
      ]
     },
     "metadata": {},
     "output_type": "display_data"
    },
    {
     "data": {
      "text/plain": [
       "<Figure size 640x480 with 0 Axes>"
      ]
     },
     "metadata": {},
     "output_type": "display_data"
    },
    {
     "data": {
      "text/plain": [
       "<Figure size 640x480 with 0 Axes>"
      ]
     },
     "metadata": {},
     "output_type": "display_data"
    },
    {
     "data": {
      "text/plain": [
       "<Figure size 640x480 with 0 Axes>"
      ]
     },
     "metadata": {},
     "output_type": "display_data"
    },
    {
     "data": {
      "text/plain": [
       "<Figure size 640x480 with 0 Axes>"
      ]
     },
     "metadata": {},
     "output_type": "display_data"
    },
    {
     "data": {
      "text/plain": [
       "<Figure size 640x480 with 0 Axes>"
      ]
     },
     "metadata": {},
     "output_type": "display_data"
    },
    {
     "data": {
      "text/plain": [
       "<Figure size 640x480 with 0 Axes>"
      ]
     },
     "metadata": {},
     "output_type": "display_data"
    },
    {
     "data": {
      "text/plain": [
       "<Figure size 640x480 with 0 Axes>"
      ]
     },
     "metadata": {},
     "output_type": "display_data"
    },
    {
     "data": {
      "text/plain": [
       "<Figure size 640x480 with 0 Axes>"
      ]
     },
     "metadata": {},
     "output_type": "display_data"
    },
    {
     "data": {
      "text/plain": [
       "<Figure size 640x480 with 0 Axes>"
      ]
     },
     "metadata": {},
     "output_type": "display_data"
    },
    {
     "data": {
      "text/plain": [
       "<Figure size 640x480 with 0 Axes>"
      ]
     },
     "metadata": {},
     "output_type": "display_data"
    },
    {
     "data": {
      "text/plain": [
       "<Figure size 640x480 with 0 Axes>"
      ]
     },
     "metadata": {},
     "output_type": "display_data"
    },
    {
     "data": {
      "text/plain": [
       "<Figure size 640x480 with 0 Axes>"
      ]
     },
     "metadata": {},
     "output_type": "display_data"
    },
    {
     "data": {
      "text/plain": [
       "<Figure size 640x480 with 0 Axes>"
      ]
     },
     "metadata": {},
     "output_type": "display_data"
    },
    {
     "data": {
      "text/plain": [
       "<Figure size 640x480 with 0 Axes>"
      ]
     },
     "metadata": {},
     "output_type": "display_data"
    },
    {
     "data": {
      "text/plain": [
       "<Figure size 640x480 with 0 Axes>"
      ]
     },
     "metadata": {},
     "output_type": "display_data"
    },
    {
     "data": {
      "text/plain": [
       "<Figure size 640x480 with 0 Axes>"
      ]
     },
     "metadata": {},
     "output_type": "display_data"
    },
    {
     "data": {
      "text/plain": [
       "<Figure size 640x480 with 0 Axes>"
      ]
     },
     "metadata": {},
     "output_type": "display_data"
    },
    {
     "data": {
      "text/plain": [
       "<Figure size 640x480 with 0 Axes>"
      ]
     },
     "metadata": {},
     "output_type": "display_data"
    },
    {
     "data": {
      "text/plain": [
       "<Figure size 640x480 with 0 Axes>"
      ]
     },
     "metadata": {},
     "output_type": "display_data"
    },
    {
     "data": {
      "text/plain": [
       "<Figure size 640x480 with 0 Axes>"
      ]
     },
     "metadata": {},
     "output_type": "display_data"
    },
    {
     "data": {
      "text/plain": [
       "<Figure size 640x480 with 0 Axes>"
      ]
     },
     "metadata": {},
     "output_type": "display_data"
    },
    {
     "data": {
      "text/plain": [
       "<Figure size 640x480 with 0 Axes>"
      ]
     },
     "metadata": {},
     "output_type": "display_data"
    },
    {
     "data": {
      "text/plain": [
       "<Figure size 640x480 with 0 Axes>"
      ]
     },
     "metadata": {},
     "output_type": "display_data"
    },
    {
     "data": {
      "text/plain": [
       "<Figure size 640x480 with 0 Axes>"
      ]
     },
     "metadata": {},
     "output_type": "display_data"
    }
   ],
   "source": [
    "# Distribution of numeric features\n",
    "for col in numeric_cols:\n",
    "    fig, ax = plt.subplots()\n",
    "    sns.histplot(df[col], kde=True, ax=ax)\n",
    "    ax.set_title(f\"Distribution of {col}\")\n",
    "    save_plot(fig, f\"{col}_distribution.png\", caption=f\"Distribution of {col}\")\n"
   ]
  },
  {
   "cell_type": "code",
   "execution_count": null,
   "id": "56d84887-85c7-4c29-a876-d6c3d8eec9c3",
   "metadata": {},
   "outputs": [],
   "source": [
    "## Grouped Statistics by Target"
   ]
  },
  {
   "cell_type": "code",
   "execution_count": null,
   "id": "6d632b11-e2fe-42bf-b7ea-586850ef6200",
   "metadata": {},
   "outputs": [],
   "source": [
    "# Mean values by target class\n",
    "grouped_means = df.groupby(target_column)[numeric_cols].mean().T\n",
    "display(grouped_means)"
   ]
  },
  {
   "cell_type": "code",
   "execution_count": null,
   "id": "ccc85807-755c-424b-ab5f-9b38b759c603",
   "metadata": {},
   "outputs": [],
   "source": [
    "## Correlation Matrix"
   ]
  },
  {
   "cell_type": "code",
   "execution_count": null,
   "id": "6fba5dc8-a7b0-4fb7-81b1-8713497d375b",
   "metadata": {},
   "outputs": [],
   "source": [
    "# Heatmap of correlation between numeric variables\n",
    "fig, ax = plt.subplots(figsize=(12, 10))\n",
    "corr_matrix = df[numeric_cols].corr()\n",
    "sns.heatmap(corr_matrix, annot=True, fmt=\".2f\", cmap=\"coolwarm\", ax=ax)\n",
    "ax.set_title(\"Correlation Matrix\")\n",
    "save_plot(fig, \"correlation_heatmap.png\", caption=\"Correlation matrix among numeric features\")"
   ]
  },
  {
   "cell_type": "code",
   "execution_count": null,
   "id": "91b67900-2e43-4a58-a42f-ca815b6a4b3b",
   "metadata": {},
   "outputs": [],
   "source": [
    "## Boxplots of Features by Target Class"
   ]
  },
  {
   "cell_type": "code",
   "execution_count": null,
   "id": "f6492d18-0bf1-4b82-86df-83a2c923ffaa",
   "metadata": {},
   "outputs": [],
   "source": [
    "# Compare feature distributions across target categories\n",
    "for col in numeric_cols:\n",
    "    fig, ax = plt.subplots()\n",
    "    sns.boxplot(x=target_column, y=col, data=df, ax=ax)\n",
    "    ax.set_title(f\"{col} by {target_column}\")\n",
    "    save_plot(fig, f\"{col}_boxplot.png\", caption=f\"Boxplot of {col} by target class\")"
   ]
  },
  {
   "cell_type": "code",
   "execution_count": null,
   "id": "0a96c650-a3ce-47be-a661-a8a4709a940f",
   "metadata": {},
   "outputs": [],
   "source": [
    "## Notebook Summary"
   ]
  },
  {
   "cell_type": "code",
   "execution_count": null,
   "id": "a06db85e-9540-4175-b536-cefd02070870",
   "metadata": {},
   "outputs": [],
   "source": []
  },
  {
   "cell_type": "code",
   "execution_count": null,
   "id": "a315eb41-956f-4403-a54a-0e675b064efe",
   "metadata": {},
   "outputs": [],
   "source": []
  },
  {
   "cell_type": "code",
   "execution_count": null,
   "id": "6c1fe18f-cdd2-49d2-a778-b7fe59aaec4f",
   "metadata": {},
   "outputs": [],
   "source": []
  },
  {
   "cell_type": "code",
   "execution_count": null,
   "id": "138f6972-f44e-48f8-807e-8265ecbca973",
   "metadata": {},
   "outputs": [],
   "source": [
    "-----------------------------"
   ]
  },
  {
   "cell_type": "code",
   "execution_count": null,
   "id": "67a051f6-0690-46e1-93d1-c6d34ba8eab2",
   "metadata": {},
   "outputs": [],
   "source": [
    "## Statistics of Cleaned Data"
   ]
  },
  {
   "cell_type": "code",
   "execution_count": null,
   "id": "1e8c0d69-2814-418b-a2c5-e61f47d5003f",
   "metadata": {},
   "outputs": [],
   "source": [
    "# Descriptive statistics\n",
    "df_clean.describe()"
   ]
  },
  {
   "cell_type": "code",
   "execution_count": null,
   "id": "f9c66f61-665c-4075-b0c9-57964e6f339e",
   "metadata": {},
   "outputs": [],
   "source": [
    "### Output\n",
    "\n",
    "We see a full summary of the numeric columns in our cleaned dataset. This includes useful values like the mean, standard deviation, minimum and maximum, and the 25th, 50th (median), and 75th percentiles for each feature.\n",
    "\n",
    "Some columns, like Gender, Smoking, and Diagnosis, only contain values between 0 and 1. That means they are binary — either yes or no. For example, the mean of Diagnosis is about 0.35, which tells us that roughly 35% of the patients are diagnosed with the condition.\n",
    "\n",
    "Other columns, like BMI, Age, and Cholesterol, have a much wider range. These are continuous features, and we will likely need to scale them before using them in a machine learning model.\n",
    "\n",
    "This output helps us understand what kind of data we are working with. It also confirms that everything looks complete and consistent, which is important before moving on to visualizations or further analysis."
   ]
  },
  {
   "cell_type": "code",
   "execution_count": null,
   "id": "d4cc4d99-2a47-46ed-ac63-5ca234261126",
   "metadata": {},
   "outputs": [],
   "source": [
    "## Boxplots – All Numeric Variables\n",
    "\n",
    "We first tried creating a boxplot of all numeric features in the dataset. Boxplots are useful for showing the distribution of values, including the median, quartiles, and possible outliers."
   ]
  },
  {
   "cell_type": "code",
   "execution_count": null,
   "id": "6e528367-b385-4416-b2fa-1af235a05c0d",
   "metadata": {},
   "outputs": [],
   "source": [
    "# Boxplot of all numeric variables\n",
    "plt.figure(figsize=(14, 8))\n",
    "sns.boxplot(data=df_clean.select_dtypes(include='number'), orient=\"h\")\n",
    "plt.title(\"Boxplot of All Numeric Features\")\n",
    "plt.show()"
   ]
  },
  {
   "cell_type": "code",
   "execution_count": null,
   "id": "50e51775-2c39-45f8-90c2-c0463d166fcf",
   "metadata": {},
   "outputs": [],
   "source": [
    "### Output\n",
    "\n",
    "We see that the boxplot is difficult to interpret because some features, like PatientID, have very large values, while others are binary or have very small ranges. This large difference in scale causes most of the boxes to be compressed or almost invisible.\n",
    "\n",
    "This shows that combining all numeric features into one boxplot is not very useful when the variables have very different value ranges. The result is a plot that does not give us any clear insight.\n",
    "z"
   ]
  },
  {
   "cell_type": "code",
   "execution_count": null,
   "id": "bcbc2b3d-0dcb-44f8-947a-bcadd952f309",
   "metadata": {},
   "outputs": [],
   "source": [
    "## Boxplots – Selected Continuous Features\n",
    "\n",
    "To get a clearer overview, we selected only a few continuous features that are on similar scales. This makes it easier to see the spread of values, compare medians, and identify outliers.\n",
    "\n",
    "We included variables like BMI, PhysicalActivity, DietQuality, and several cholesterol-related columns. These features have measurable ranges and are good candidates for comparison. This approach gives us a much more readable and meaningful visualization.\n"
   ]
  },
  {
   "cell_type": "code",
   "execution_count": null,
   "id": "6071e800-74a1-4a7a-ae8b-7d9d268557a9",
   "metadata": {},
   "outputs": [],
   "source": [
    "# Select continuous numeric columns for clearer boxplots\n",
    "columns_to_plot = [\n",
    "    \"BMI\", \"PhysicalActivity\", \"DietQuality\", \"SleepQuality\",\n",
    "    \"CholesterolTotal\", \"CholesterolLDL\", \"CholesterolHDL\", \"MMSE\"\n",
    "]\n",
    "\n",
    "plt.figure(figsize=(12, 6))\n",
    "sns.boxplot(data=df_clean[columns_to_plot], orient=\"h\")\n",
    "plt.title(\"Boxplot of Selected Continuous Features\")\n",
    "plt.show()"
   ]
  },
  {
   "cell_type": "code",
   "execution_count": null,
   "id": "946ec022-21bc-4969-b200-1c6841b8ab7c",
   "metadata": {},
   "outputs": [],
   "source": [
    "### Output\n",
    "\n",
    "We see that the boxplots now clearly show the distribution of each selected variable. We can observe the range of values, the middle 50% (the box), and any outliers outside the whiskers.\n",
    "\n",
    "For example, CholesterolLDL and MMSE show wider ranges, while features like PhysicalActivity and DietQuality have smaller, more concentrated distributions. This tells us that these variables may need different kinds of preprocessing (like scaling) before we use them in a machine learning model."
   ]
  },
  {
   "cell_type": "code",
   "execution_count": null,
   "id": "ce4d1665-dd3f-489e-9c46-a21bc071c815",
   "metadata": {},
   "outputs": [],
   "source": [
    "## Boxplots – Log-Transformed Features\n",
    "\n",
    "To improve the clarity of the boxplots even more, we applied a log transformation to each feature. Log transformation helps reduce skew, especially when there are a few very large values.\n",
    "\n",
    "This technique compresses the scale of high values and stretches the scale of low values, making the distributions easier to compare side by side. We used log(1 + x) to safely handle values near zero."
   ]
  },
  {
   "cell_type": "code",
   "execution_count": null,
   "id": "5d0f99c4-2cbc-4ef5-9551-8ade4e843abd",
   "metadata": {},
   "outputs": [],
   "source": [
    "# Apply log transform to reduce skew before plotting\n",
    "import numpy as np\n",
    "\n",
    "df_log = df_clean[columns_to_plot].apply(lambda x: np.log1p(x))  # log(1 + x)\n",
    "\n",
    "plt.figure(figsize=(12, 6))\n",
    "sns.boxplot(data=df_log, orient=\"h\")\n",
    "plt.title(\"Boxplot of Log-Transformed Continuous Features\")\n",
    "plt.show()"
   ]
  },
  {
   "cell_type": "code",
   "execution_count": null,
   "id": "00f7cf52-63e4-4380-9771-fd07bdb766a4",
   "metadata": {},
   "outputs": [],
   "source": [
    "### Output\n",
    "\n",
    "We see that the log-transformed boxplots are more balanced and evenly spread. The variables are easier to compare visually, and patterns in the data are more visible. For example, MMSE had a very wide spread in the original scale, but after transformation we can clearly see its shape and outliers. The same applies to Cholesterol features.\n",
    "This confirms that log transformation is a helpful tool for visualizing skewed data and preparing features for machine learning models."
   ]
  },
  {
   "cell_type": "code",
   "execution_count": null,
   "id": "fe5e184b-9047-4936-9d02-6af7480adf59",
   "metadata": {},
   "outputs": [],
   "source": [
    "## Plot Histograms for Numeric Variables"
   ]
  },
  {
   "cell_type": "code",
   "execution_count": null,
   "id": "1bbf9c88-67f4-4657-a08a-df031a46fcea",
   "metadata": {},
   "outputs": [],
   "source": [
    "# Histogram grid for feature distributions\n",
    "df_clean.hist(figsize=(16, 12), bins=20)\n",
    "plt.suptitle(\"Histogram of Features\", fontsize=16)\n",
    "plt.tight_layout()\n",
    "plt.show()"
   ]
  },
  {
   "cell_type": "code",
   "execution_count": null,
   "id": "ca2552a6-9c68-4406-b83a-f1e168eea4da",
   "metadata": {},
   "outputs": [],
   "source": [
    "#### Detect Outliers Using IQR"
   ]
  },
  {
   "cell_type": "code",
   "execution_count": null,
   "id": "ea3aeef8-b364-476f-a4b1-396d5a7d3acc",
   "metadata": {},
   "outputs": [],
   "source": [
    "def detect_outliers_iqr(df, columns):\n",
    "    \"\"\"\n",
    "    Returns a DataFrame of rows considered outliers in any specified column using IQR method.\n",
    "    \"\"\"\n",
    "    outlier_indices = []\n",
    "\n",
    "    for col in columns:\n",
    "        Q1 = df[col].quantile(0.25)\n",
    "        Q3 = df[col].quantile(0.75)\n",
    "        IQR = Q3 - Q1\n",
    "        lower_bound = Q1 - 1.5 * IQR\n",
    "        upper_bound = Q3 + 1.5 * IQR\n",
    "\n",
    "        outliers = df[(df[col] < lower_bound) | (df[col] > upper_bound)].index\n",
    "        outlier_indices.extend(outliers)\n",
    "\n",
    "    outlier_indices = list(set(outlier_indices))\n",
    "    return df.loc[outlier_indices]"
   ]
  },
  {
   "cell_type": "code",
   "execution_count": null,
   "id": "33432b06-383b-41a1-8ad4-98cbae3d6ddf",
   "metadata": {},
   "outputs": [],
   "source": [
    "#### View and Count Outliers"
   ]
  },
  {
   "cell_type": "code",
   "execution_count": null,
   "id": "e601974f-159a-453e-b557-32ca1547bb74",
   "metadata": {},
   "outputs": [],
   "source": [
    "# Detect outliers in numeric columns\n",
    "numeric_cols = df_clean.select_dtypes(include=[np.number]).columns\n",
    "outliers_df = detect_outliers_iqr(df_clean, numeric_cols)\n",
    "\n",
    "print(f\"Total rows with outliers: {outliers_df.shape[0]}\")\n",
    "outliers_df.head()\n"
   ]
  },
  {
   "cell_type": "code",
   "execution_count": null,
   "id": "7f0b4179-1458-4229-8e12-4d45f033256a",
   "metadata": {},
   "outputs": [],
   "source": [
    "#### Remove Outliers"
   ]
  },
  {
   "cell_type": "code",
   "execution_count": null,
   "id": "660db1b1-805e-4e51-b9df-f8a761adf2c6",
   "metadata": {},
   "outputs": [],
   "source": [
    "# Remove detected outliers\n",
    "df_no_outliers = df_clean.drop(outliers_df.index)\n",
    "\n",
    "print(f\"Shape after removing outliers: {df_no_outliers.shape}\")\n"
   ]
  },
  {
   "cell_type": "code",
   "execution_count": null,
   "id": "c81b9c0a-c564-4ac6-9148-ff1af065cdde",
   "metadata": {},
   "outputs": [],
   "source": [
    "#### Save dataset"
   ]
  },
  {
   "cell_type": "code",
   "execution_count": null,
   "id": "4c1ed259-586f-4582-ab36-e701aedf383c",
   "metadata": {},
   "outputs": [],
   "source": [
    "# Save outlier-free data\n",
    "df_no_outliers.to_csv(\"../data/alzheimers_no_outliers.csv\", index=False)\n"
   ]
  },
  {
   "cell_type": "code",
   "execution_count": null,
   "id": "6141f0d0-2ea3-44bf-98a2-4774c021db07",
   "metadata": {},
   "outputs": [],
   "source": [
    "#### Correlation Matrix"
   ]
  },
  {
   "cell_type": "code",
   "execution_count": null,
   "id": "85bd7f38-c4aa-4deb-aeb8-0448dedb9685",
   "metadata": {},
   "outputs": [],
   "source": [
    "# Correlation heatmap\n",
    "plt.figure(figsize=(12, 8))\n",
    "sns.heatmap(df_no_outliers.corr(numeric_only=True), annot=True, cmap=\"coolwarm\", fmt=\".2f\")\n",
    "plt.title(\"Correlation Matrix (Outlier-Free Data)\")\n",
    "plt.show()\n",
    "\n"
   ]
  },
  {
   "cell_type": "code",
   "execution_count": null,
   "id": "074d15a3-3be2-424e-ac6c-61ae81e0381e",
   "metadata": {},
   "outputs": [],
   "source": [
    "#### Pairplot for Highly Correlated Features"
   ]
  },
  {
   "cell_type": "code",
   "execution_count": null,
   "id": "139dfbee-0cd5-4e65-8b95-4f724e8bc277",
   "metadata": {},
   "outputs": [],
   "source": [
    "# Optional: select top correlated variables for pairplot\n",
    "corr_matrix = df_no_outliers.corr(numeric_only=True)\n",
    "top_corr = corr_matrix.abs().unstack().sort_values(ascending=False)\n",
    "top_pairs = top_corr[(top_corr < 1.0)].drop_duplicates().head(3)\n",
    "\n",
    "cols = list(set([i for pair in top_pairs.index for i in pair]))\n",
    "sns.pairplot(df_no_outliers[cols])\n",
    "plt.suptitle(\"Pairplot of Top Correlated Features\")\n",
    "plt.show()"
   ]
  },
  {
   "cell_type": "code",
   "execution_count": null,
   "id": "ee0bbfbb-7984-46fc-885b-d118d5e7d0c8",
   "metadata": {},
   "outputs": [],
   "source": [
    "#### Feature Scaling"
   ]
  },
  {
   "cell_type": "code",
   "execution_count": null,
   "id": "c492f1a8-c8b6-4514-b5fa-438073082fb5",
   "metadata": {},
   "outputs": [],
   "source": [
    "# Standardize numeric columns\n",
    "scaler = StandardScaler()\n",
    "df_scaled = df_no_outliers.copy()\n",
    "df_scaled[numeric_cols] = scaler.fit_transform(df_no_outliers[numeric_cols])\n"
   ]
  }
 ],
 "metadata": {
  "kernelspec": {
   "display_name": "Python [conda env:base] *",
   "language": "python",
   "name": "conda-base-py"
  },
  "language_info": {
   "codemirror_mode": {
    "name": "ipython",
    "version": 3
   },
   "file_extension": ".py",
   "mimetype": "text/x-python",
   "name": "python",
   "nbconvert_exporter": "python",
   "pygments_lexer": "ipython3",
   "version": "3.12.2"
  }
 },
 "nbformat": 4,
 "nbformat_minor": 5
}
