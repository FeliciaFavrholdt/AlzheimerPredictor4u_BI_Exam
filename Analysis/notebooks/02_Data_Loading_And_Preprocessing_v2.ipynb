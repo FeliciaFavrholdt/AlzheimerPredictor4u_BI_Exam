{
 "cells": [
  {
   "cell_type": "markdown",
   "id": "ae26d881-c3f6-43b5-a196-13b67e69066f",
   "metadata": {},
   "source": [
    "# Notebook 02 – Dataset Cleaning Overview\n",
    "In this notebook, we explore the Alzheimer's dataset, check for missing values and inconsistencies, and prepare a cleaned version for further analysis and modeling."
   ]
  },
  {
   "cell_type": "code",
   "execution_count": null,
   "id": "75935857-6749-4554-b8d7-7ba0015aa676",
   "metadata": {},
   "outputs": [],
   "source": []
  },
  {
   "cell_type": "code",
   "execution_count": null,
   "id": "3c628348-0257-45fc-9d5e-004b5402e51f",
   "metadata": {},
   "outputs": [],
   "source": []
  }
 ],
 "metadata": {
  "kernelspec": {
   "display_name": "Python [conda env:base] *",
   "language": "python",
   "name": "conda-base-py"
  },
  "language_info": {
   "codemirror_mode": {
    "name": "ipython",
    "version": 3
   },
   "file_extension": ".py",
   "mimetype": "text/x-python",
   "name": "python",
   "nbconvert_exporter": "python",
   "pygments_lexer": "ipython3",
   "version": "3.12.2"
  }
 },
 "nbformat": 4,
 "nbformat_minor": 5
}
